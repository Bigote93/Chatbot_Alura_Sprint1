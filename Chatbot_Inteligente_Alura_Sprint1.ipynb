{
  "nbformat": 4,
  "nbformat_minor": 0,
  "metadata": {
    "colab": {
      "provenance": [],
      "authorship_tag": "ABX9TyO8LwnQj56RUaIzmzHN6W1S",
      "include_colab_link": true
    },
    "kernelspec": {
      "name": "python3",
      "display_name": "Python 3"
    },
    "language_info": {
      "name": "python"
    }
  },
  "cells": [
    {
      "cell_type": "markdown",
      "metadata": {
        "id": "view-in-github",
        "colab_type": "text"
      },
      "source": [
        "<a href=\"https://colab.research.google.com/github/Bigote93/Chatbot_Alura_Sprint1/blob/main/Chatbot_Inteligente_Alura_Sprint1.ipynb\" target=\"_parent\"><img src=\"https://colab.research.google.com/assets/colab-badge.svg\" alt=\"Open In Colab\"/></a>"
      ]
    },
    {
      "cell_type": "markdown",
      "source": [
        "# Sprint 01 - Chatbot - Alura Latam"
      ],
      "metadata": {
        "id": "nKLW9p__17N2"
      }
    },
    {
      "cell_type": "code",
      "source": [
        "#Recursos y librerias\n",
        "import pandas as pd\n",
        "import re, os, random, pickle\n",
        "\n",
        "from sklearn.feature_extraction.text import TfidfTransformer\n",
        "from sklearn.metrics.pairwise import cosine_similarity\n",
        "from sklearn.feature_extraction.text import TfidfVectorizer\n",
        "\n",
        "!pip install scipy\n",
        "import spacy\n",
        "\n",
        "!pip install jellyfish\n",
        "import jellyfish\n",
        "\n",
        "!pip install transformers\n",
        "\n",
        "from transformers import BertForSequenceClassification\n",
        "from transformers import BertTokenizer\n",
        "\n",
        "import torch\n",
        "\n"
      ],
      "metadata": {
        "colab": {
          "base_uri": "https://localhost:8080/"
        },
        "id": "Xr3aXyPv5zIf",
        "outputId": "fa81bdcc-d778-4791-a38a-1f4d35a3885a"
      },
      "execution_count": 20,
      "outputs": [
        {
          "output_type": "stream",
          "name": "stdout",
          "text": [
            "Requirement already satisfied: scipy in /usr/local/lib/python3.10/dist-packages (1.11.3)\n",
            "Requirement already satisfied: numpy<1.28.0,>=1.21.6 in /usr/local/lib/python3.10/dist-packages (from scipy) (1.23.5)\n",
            "Requirement already satisfied: jellyfish in /usr/local/lib/python3.10/dist-packages (1.0.1)\n",
            "Requirement already satisfied: transformers in /usr/local/lib/python3.10/dist-packages (4.34.0)\n",
            "Requirement already satisfied: filelock in /usr/local/lib/python3.10/dist-packages (from transformers) (3.12.4)\n",
            "Requirement already satisfied: huggingface-hub<1.0,>=0.16.4 in /usr/local/lib/python3.10/dist-packages (from transformers) (0.17.3)\n",
            "Requirement already satisfied: numpy>=1.17 in /usr/local/lib/python3.10/dist-packages (from transformers) (1.23.5)\n",
            "Requirement already satisfied: packaging>=20.0 in /usr/local/lib/python3.10/dist-packages (from transformers) (23.2)\n",
            "Requirement already satisfied: pyyaml>=5.1 in /usr/local/lib/python3.10/dist-packages (from transformers) (6.0.1)\n",
            "Requirement already satisfied: regex!=2019.12.17 in /usr/local/lib/python3.10/dist-packages (from transformers) (2023.6.3)\n",
            "Requirement already satisfied: requests in /usr/local/lib/python3.10/dist-packages (from transformers) (2.31.0)\n",
            "Requirement already satisfied: tokenizers<0.15,>=0.14 in /usr/local/lib/python3.10/dist-packages (from transformers) (0.14.1)\n",
            "Requirement already satisfied: safetensors>=0.3.1 in /usr/local/lib/python3.10/dist-packages (from transformers) (0.4.0)\n",
            "Requirement already satisfied: tqdm>=4.27 in /usr/local/lib/python3.10/dist-packages (from transformers) (4.66.1)\n",
            "Requirement already satisfied: fsspec in /usr/local/lib/python3.10/dist-packages (from huggingface-hub<1.0,>=0.16.4->transformers) (2023.6.0)\n",
            "Requirement already satisfied: typing-extensions>=3.7.4.3 in /usr/local/lib/python3.10/dist-packages (from huggingface-hub<1.0,>=0.16.4->transformers) (4.5.0)\n",
            "Requirement already satisfied: charset-normalizer<4,>=2 in /usr/local/lib/python3.10/dist-packages (from requests->transformers) (3.3.0)\n",
            "Requirement already satisfied: idna<4,>=2.5 in /usr/local/lib/python3.10/dist-packages (from requests->transformers) (3.4)\n",
            "Requirement already satisfied: urllib3<3,>=1.21.1 in /usr/local/lib/python3.10/dist-packages (from requests->transformers) (2.0.6)\n",
            "Requirement already satisfied: certifi>=2017.4.17 in /usr/local/lib/python3.10/dist-packages (from requests->transformers) (2023.7.22)\n"
          ]
        }
      ]
    },
    {
      "cell_type": "code",
      "execution_count": 2,
      "metadata": {
        "colab": {
          "base_uri": "https://localhost:8080/"
        },
        "id": "o8bakXByzeVt",
        "outputId": "8febc3cb-bf9b-4212-8b7e-323bb24527cd"
      },
      "outputs": [
        {
          "output_type": "stream",
          "name": "stdout",
          "text": [
            "Mounted at /content/drive\n"
          ]
        }
      ],
      "source": [
        "from google.colab import drive\n",
        "drive.mount('/content/drive')"
      ]
    },
    {
      "cell_type": "markdown",
      "source": [
        "## (1) Lista de carga de verbos"
      ],
      "metadata": {
        "id": "uDeL5WDW2UQb"
      }
    },
    {
      "cell_type": "code",
      "source": [
        "#Instanciamos la lista de verbos\n",
        "verbos_irregulares = []\n",
        "#Direccion de lista de verbos\n",
        "path_lista_verbos = '/content/drive/MyDrive/Chatbot/verbos/verbos_irregulares.pickle'\n",
        "\n",
        "#Comprobar el tamaño del archivo\n",
        "tamaño_archivo = os.path.getsize(path_lista_verbos)\n",
        "\n",
        "if tamaño_archivo == 0:\n",
        "    print(\"El archivo está vacío.\")\n",
        "else:\n",
        "    #Apertura de documentos\n",
        "    fichero_listaverbos = open(path_lista_verbos, 'rb')\n",
        "\n",
        "    #Cargar fichero\n",
        "    verbos_irregulares = pickle.load(fichero_listaverbos)"
      ],
      "metadata": {
        "id": "uucqZiPr2X5S"
      },
      "execution_count": 3,
      "outputs": []
    },
    {
      "cell_type": "code",
      "source": [
        "#Instanciamos la lista de verbos\n",
        "lista_verbos = []\n",
        "#Direccion de lista de verbos\n",
        "path_lista_verbos = '/content/drive/MyDrive/Chatbot/verbos/lista_verbos.pickle'\n",
        "\n",
        "#Comprobar el tamaño del archivo\n",
        "tamaño_archivo = os.path.getsize(path_lista_verbos)\n",
        "\n",
        "if tamaño_archivo == 0:\n",
        "    print(\"El archivo está vacío.\")\n",
        "else:\n",
        "    #Apertura de documentos\n",
        "    fichero_listaverbos = open(path_lista_verbos, 'rb')\n",
        "\n",
        "    #Cargar fichero\n",
        "    lista_verbos = pickle.load(fichero_listaverbos)"
      ],
      "metadata": {
        "id": "gRP1Ghq18f5F"
      },
      "execution_count": 4,
      "outputs": []
    },
    {
      "cell_type": "markdown",
      "source": [
        "## (2) Tratamiento de datos"
      ],
      "metadata": {
        "id": "wn4BEBH4-BQw"
      }
    },
    {
      "cell_type": "markdown",
      "source": [
        "### Raiz de los verbos\n",
        "\n",
        "Función raiz que reciba una palabra y la compare con todas las palabras de la lista_verbos utilizando jaro_winkler , y que devuelva la palabra de lista_verbos con mayor similaridad a la palabra ingresada.\n",
        "\n",
        "> Observación: Si la palabra encontrada, con mayor similaridad, no supera el radio de 0.93 entonces deberá regresar la palabra original."
      ],
      "metadata": {
        "id": "eRpzMRMMAaUw"
      }
    },
    {
      "cell_type": "code",
      "source": [
        "def raiz_verbo(verbo_analizar):\n",
        "\n",
        "  #Lista de verbos cercanos\n",
        "  verbos_cercanos = []\n",
        "\n",
        "  #Recorremos la lista de verbos\n",
        "  for verbo in lista_verbos:\n",
        "    #Condicionador de verbos y adjuntar a la lista\n",
        "    if jellyfish.jaro_winkler_similarity(verbo_analizar,verbo) >= 0.93:\n",
        "      #Verificamos si esta el verbo en la lista\n",
        "      if verbo not in verbos_cercanos:\n",
        "        verbos_cercanos.append(verbo)\n",
        "    else:\n",
        "      #Verificamos si esta el verbo en la lista\n",
        "      if verbo_analizar not in verbos_cercanos:\n",
        "        verbos_cercanos.append(verbo_analizar)\n",
        "\n",
        "  return verbos_cercanos\n",
        "\n",
        "#Aplicacion\n",
        "raiz_verbo('Comir')"
      ],
      "metadata": {
        "colab": {
          "base_uri": "https://localhost:8080/"
        },
        "id": "s13Av-o-AWyw",
        "outputId": "56c42038-e20b-406b-cac1-7e67e1e119df"
      },
      "execution_count": 5,
      "outputs": [
        {
          "output_type": "execute_result",
          "data": {
            "text/plain": [
              "['Comir']"
            ]
          },
          "metadata": {},
          "execution_count": 5
        }
      ]
    },
    {
      "cell_type": "markdown",
      "source": [
        "### Tratamiento de texto\n",
        "\n",
        "Función tratamiento_texto que reciba una frase de texto y devuelva la misma frase pero sin acentuaciones, todo en minúscula y sin espacios en blanco adicionales.\n",
        "\n",
        "Ejemplo:\n",
        "\n",
        "```\n",
        "# Ejemplo visualizacion\n",
        "\n",
        "tratamiento_texto('¡Buen día!, ¿Cómo está todo hoy?')\n",
        "\n",
        ">> '¡buen dia!, ¿como esta todo hoy?'\n",
        "\n",
        "```\n",
        "\n"
      ],
      "metadata": {
        "id": "mioDReBaFPyX"
      }
    },
    {
      "cell_type": "code",
      "source": [
        "def tratamiento_texto(texto):\n",
        "\n",
        "  # Convertimos el texto a minúsculas.\n",
        "  texto_minusculas = texto.lower()\n",
        "\n",
        "  # Eliminamos los caracteres con tildes.\n",
        "  texto_tratado = texto_minusculas.replace(\"á\", \"a\").replace(\"é\", \"e\").replace(\"í\", \"i\").replace(\"ó\", \"o\").replace(\"ú\", \"u\")\n",
        "\n",
        "  return texto_tratado\n",
        "\n",
        "tratamiento_texto('¡Buen día!, ¿Cómo está todo hoy?')"
      ],
      "metadata": {
        "colab": {
          "base_uri": "https://localhost:8080/",
          "height": 36
        },
        "id": "9YQWQL_4GDNC",
        "outputId": "277cf715-eddd-427f-c0c8-2bd5ebda2092"
      },
      "execution_count": 6,
      "outputs": [
        {
          "output_type": "execute_result",
          "data": {
            "text/plain": [
              "'¡buen dia!, ¿como esta todo hoy?'"
            ],
            "application/vnd.google.colaboratory.intrinsic+json": {
              "type": "string"
            }
          },
          "metadata": {},
          "execution_count": 6
        }
      ]
    },
    {
      "cell_type": "markdown",
      "source": [
        "### Terminacion de palabras\n",
        "\n",
        "Función reemplazar_terminacion que reciba una palabra e identifique si la misma termina en alguna de las siguientes palabras: “es”, “me”, “as”, “te”, “ste”, si coincide, entonces que substituya esa terminación por la letra “r”."
      ],
      "metadata": {
        "id": "teTV0vy2HBvb"
      }
    },
    {
      "cell_type": "code",
      "source": [
        "def reemplazar_terminacion(palabra):\n",
        "\n",
        "  terminaciones = ['ste','es','me','as','te',]\n",
        "  #Verificar si tiene terminacion\n",
        "  for terminacion in terminaciones:\n",
        "    if terminacion in palabra[-len(terminacion):]:\n",
        "\n",
        "      #Cambiar la terminacion de la palabra\n",
        "      verbo_infinitivo = palabra[:-len(terminacion)]+'r'\n",
        "\n",
        "      return verbo_infinitivo\n",
        "\n",
        "reemplazar_terminacion('Comiste')"
      ],
      "metadata": {
        "colab": {
          "base_uri": "https://localhost:8080/",
          "height": 36
        },
        "id": "a6BRyCLNH2Fu",
        "outputId": "324d32f0-bee4-4b47-e37c-9c7b63b939b4"
      },
      "execution_count": 7,
      "outputs": [
        {
          "output_type": "execute_result",
          "data": {
            "text/plain": [
              "'Comir'"
            ],
            "application/vnd.google.colaboratory.intrinsic+json": {
              "type": "string"
            }
          },
          "metadata": {},
          "execution_count": 7
        }
      ]
    },
    {
      "cell_type": "markdown",
      "source": [
        "### Normalizacion de textos\n",
        "\n",
        "Crear una funcion que identifique la categoria de la palabra.\n",
        "\n",
        ">Observacion: Antes de realizarlo, debemos aplicar la funcion de puntuacion y tildes para limpiar la oracion"
      ],
      "metadata": {
        "id": "27kwf5a8RwOO"
      }
    },
    {
      "cell_type": "code",
      "source": [
        "import spacy\n",
        "\n",
        "def normalizar_texto(frase):\n",
        "\n",
        "  #Instanciar modelo nlp\n",
        "  nlp = spacy.load('en_core_web_sm')\n",
        "\n",
        "  #Aplicamos la instancia a la frase\n",
        "  doc = nlp(tratamiento_texto(frase))\n",
        "\n",
        "  #Barrimos token de la frase para determinar categoria de token\n",
        "  for token in doc:\n",
        "    print(token.text, '-', token.pos_ , '-', token.lemma_)\n",
        "\n",
        "\n",
        "normalizar_texto('Hola, mi nombre es Diego Nalli')"
      ],
      "metadata": {
        "colab": {
          "base_uri": "https://localhost:8080/"
        },
        "id": "J3WHiYNCT6zK",
        "outputId": "97e0788a-7762-43a1-b1ac-c25606b840e7"
      },
      "execution_count": 8,
      "outputs": [
        {
          "output_type": "stream",
          "name": "stdout",
          "text": [
            "hola - PROPN - hola\n",
            ", - PUNCT - ,\n",
            "mi - PROPN - mi\n",
            "nombre - PROPN - nombre\n",
            "es - PROPN - es\n",
            "diego - PROPN - diego\n",
            "nalli - PROPN - nalli\n"
          ]
        }
      ]
    },
    {
      "cell_type": "markdown",
      "source": [
        "## (3) Cargar base de documentos"
      ],
      "metadata": {
        "id": "-9MPf4yuY0HL"
      }
    },
    {
      "cell_type": "markdown",
      "source": [
        "### Cargar preguntas"
      ],
      "metadata": {
        "id": "jTvXlIiJZTei"
      }
    },
    {
      "cell_type": "code",
      "source": [
        "# Generamos una ruta relativa para busqueda de elementos\n",
        "direccion_relativa = '/content/drive/MyDrive/Chatbot'\n",
        "dir_relativa_entrenamiento = direccion_relativa + '/dialogos'\n",
        "\n",
        "# Barrido de documentos internos el folder\n",
        "titulo_doc_list = [documento for documento in os.listdir(dir_relativa_entrenamiento) if documento.endswith('.txt')]\n",
        "\n",
        "# Creamos listas para almacenar contenidos\n",
        "lista_dialogos, lista_dialogos_respuesta, lista_dialogos_tipo = [], [], []\n",
        "\n",
        "#Recorremos los documentos para almacenar las oraciones\n",
        "for name_doc in range(len(titulo_doc_list)):\n",
        "\n",
        "  # Apertura de documentos con los titulos almacenados\n",
        "  doc = open(\n",
        "      dir_relativa_entrenamiento + '/' + titulo_doc_list[name_doc],\n",
        "      'r',\n",
        "      encoding = 'utf-8',\n",
        "      errors = 'ignore'\n",
        "      )\n",
        "\n",
        "  # Separar en lineas por cada texto\n",
        "  lineas = doc.read().split('\\n')\n",
        "\n",
        "  # Carga de lineas del documento abierto\n",
        "  for index, linea in enumerate(lineas):\n",
        "\n",
        "\n",
        "\n",
        "    if index % 2 != 0: # Par: Respuesta necesaria\n",
        "      lista_dialogos_respuesta.append(\n",
        "          tratamiento_texto(\n",
        "              re.sub(\n",
        "                  r\"[^\\w\\s+\\-*/]\",\n",
        "                  '',\n",
        "                  linea\n",
        "                  )\n",
        "              )\n",
        "          )\n",
        "\n",
        "      # Almacenar el tipo de linea\n",
        "      lista_dialogos_tipo.append(titulo_doc_list[name_doc].replace('.txt', ''))\n",
        "\n",
        "    else: # Impar: Pregunta a bot\n",
        "      lista_dialogos.append(\n",
        "          tratamiento_texto(\n",
        "              re.sub(\n",
        "                  r\"[^\\w\\s+\\-*/]\",\n",
        "                  '',\n",
        "                  linea\n",
        "                  )\n",
        "              ))\n",
        "print(f'El tamaño de dialogos es: {len(lista_dialogos)}')\n",
        "print(f'El tamaño de respuestas es: {len(lista_dialogos_respuesta)}')\n",
        "print(f'El tamaño de tipo es: {len(lista_dialogos_tipo)}')"
      ],
      "metadata": {
        "id": "EMdyDOUOY5Cz",
        "colab": {
          "base_uri": "https://localhost:8080/"
        },
        "outputId": "966e424d-0906-4c76-e450-796ba1cd1360"
      },
      "execution_count": 9,
      "outputs": [
        {
          "output_type": "stream",
          "name": "stdout",
          "text": [
            "El tamaño de dialogos es: 1152\n",
            "El tamaño de respuestas es: 1152\n",
            "El tamaño de tipo es: 1152\n"
          ]
        }
      ]
    },
    {
      "cell_type": "code",
      "source": [
        "# Creamos dataframe \"df_dialogo\"\n",
        "datos_dialogo = {\n",
        "    'dialogo': lista_dialogos,\n",
        "    'respuesta': lista_dialogos_respuesta,\n",
        "    'tipo': lista_dialogos_tipo,\n",
        "    'interseccion': 0,\n",
        "    'jaro_winkler': 0,\n",
        "    'probabilidad': 0\n",
        "}\n",
        "\n",
        "#Instanciamos el dataframe\n",
        "df_dialogo = pd.DataFrame(datos_dialogo)\n",
        "\n",
        "#Eliminamos los registros que se han repetido\n",
        "df_dialogo = df_dialogo.drop_duplicates(keep = 'first')\n",
        "\n",
        "#Eliminamos el index del dataframe\n",
        "df_dialogo.reset_index(drop=True, inplace=True)\n",
        "\n",
        "df_dialogo.sample(5)"
      ],
      "metadata": {
        "colab": {
          "base_uri": "https://localhost:8080/",
          "height": 206
        },
        "id": "VkrAEq5VW_U9",
        "outputId": "b744da64-f426-4b93-8007-c5dae4c1da98"
      },
      "execution_count": 10,
      "outputs": [
        {
          "output_type": "execute_result",
          "data": {
            "text/plain": [
              "                                                dialogo  \\\n",
              "854   pero por que pusiste un dibujo en tu foto de p...   \n",
              "945                      usando la definicion que te di   \n",
              "842                   y puedes redactar un texto por mi   \n",
              "958                   me interesa curso de programacion   \n",
              "1111                          gracias por tu asistencia   \n",
              "\n",
              "                                              respuesta            tipo  \\\n",
              "854   mi eleccion de poner un dibujo en mi foto de p...           Otros   \n",
              "945   no puedo hacerlo solo puedo ser re-entrenado p...           Otros   \n",
              "842   no estoy programado para ayudarte con esto sol...           Otros   \n",
              "958   debes revisar el canal de elprofealejo en youtube           Otros   \n",
              "1111  siempre estoy aqui para ayudarte en todo lo qu...  Agradecimiento   \n",
              "\n",
              "      interseccion  jaro_winkler  probabilidad  \n",
              "854              0             0             0  \n",
              "945              0             0             0  \n",
              "842              0             0             0  \n",
              "958              0             0             0  \n",
              "1111             0             0             0  "
            ],
            "text/html": [
              "\n",
              "  <div id=\"df-44344e15-1315-4378-9fff-b60437cd4d7a\" class=\"colab-df-container\">\n",
              "    <div>\n",
              "<style scoped>\n",
              "    .dataframe tbody tr th:only-of-type {\n",
              "        vertical-align: middle;\n",
              "    }\n",
              "\n",
              "    .dataframe tbody tr th {\n",
              "        vertical-align: top;\n",
              "    }\n",
              "\n",
              "    .dataframe thead th {\n",
              "        text-align: right;\n",
              "    }\n",
              "</style>\n",
              "<table border=\"1\" class=\"dataframe\">\n",
              "  <thead>\n",
              "    <tr style=\"text-align: right;\">\n",
              "      <th></th>\n",
              "      <th>dialogo</th>\n",
              "      <th>respuesta</th>\n",
              "      <th>tipo</th>\n",
              "      <th>interseccion</th>\n",
              "      <th>jaro_winkler</th>\n",
              "      <th>probabilidad</th>\n",
              "    </tr>\n",
              "  </thead>\n",
              "  <tbody>\n",
              "    <tr>\n",
              "      <th>854</th>\n",
              "      <td>pero por que pusiste un dibujo en tu foto de p...</td>\n",
              "      <td>mi eleccion de poner un dibujo en mi foto de p...</td>\n",
              "      <td>Otros</td>\n",
              "      <td>0</td>\n",
              "      <td>0</td>\n",
              "      <td>0</td>\n",
              "    </tr>\n",
              "    <tr>\n",
              "      <th>945</th>\n",
              "      <td>usando la definicion que te di</td>\n",
              "      <td>no puedo hacerlo solo puedo ser re-entrenado p...</td>\n",
              "      <td>Otros</td>\n",
              "      <td>0</td>\n",
              "      <td>0</td>\n",
              "      <td>0</td>\n",
              "    </tr>\n",
              "    <tr>\n",
              "      <th>842</th>\n",
              "      <td>y puedes redactar un texto por mi</td>\n",
              "      <td>no estoy programado para ayudarte con esto sol...</td>\n",
              "      <td>Otros</td>\n",
              "      <td>0</td>\n",
              "      <td>0</td>\n",
              "      <td>0</td>\n",
              "    </tr>\n",
              "    <tr>\n",
              "      <th>958</th>\n",
              "      <td>me interesa curso de programacion</td>\n",
              "      <td>debes revisar el canal de elprofealejo en youtube</td>\n",
              "      <td>Otros</td>\n",
              "      <td>0</td>\n",
              "      <td>0</td>\n",
              "      <td>0</td>\n",
              "    </tr>\n",
              "    <tr>\n",
              "      <th>1111</th>\n",
              "      <td>gracias por tu asistencia</td>\n",
              "      <td>siempre estoy aqui para ayudarte en todo lo qu...</td>\n",
              "      <td>Agradecimiento</td>\n",
              "      <td>0</td>\n",
              "      <td>0</td>\n",
              "      <td>0</td>\n",
              "    </tr>\n",
              "  </tbody>\n",
              "</table>\n",
              "</div>\n",
              "    <div class=\"colab-df-buttons\">\n",
              "\n",
              "  <div class=\"colab-df-container\">\n",
              "    <button class=\"colab-df-convert\" onclick=\"convertToInteractive('df-44344e15-1315-4378-9fff-b60437cd4d7a')\"\n",
              "            title=\"Convert this dataframe to an interactive table.\"\n",
              "            style=\"display:none;\">\n",
              "\n",
              "  <svg xmlns=\"http://www.w3.org/2000/svg\" height=\"24px\" viewBox=\"0 -960 960 960\">\n",
              "    <path d=\"M120-120v-720h720v720H120Zm60-500h600v-160H180v160Zm220 220h160v-160H400v160Zm0 220h160v-160H400v160ZM180-400h160v-160H180v160Zm440 0h160v-160H620v160ZM180-180h160v-160H180v160Zm440 0h160v-160H620v160Z\"/>\n",
              "  </svg>\n",
              "    </button>\n",
              "\n",
              "  <style>\n",
              "    .colab-df-container {\n",
              "      display:flex;\n",
              "      gap: 12px;\n",
              "    }\n",
              "\n",
              "    .colab-df-convert {\n",
              "      background-color: #E8F0FE;\n",
              "      border: none;\n",
              "      border-radius: 50%;\n",
              "      cursor: pointer;\n",
              "      display: none;\n",
              "      fill: #1967D2;\n",
              "      height: 32px;\n",
              "      padding: 0 0 0 0;\n",
              "      width: 32px;\n",
              "    }\n",
              "\n",
              "    .colab-df-convert:hover {\n",
              "      background-color: #E2EBFA;\n",
              "      box-shadow: 0px 1px 2px rgba(60, 64, 67, 0.3), 0px 1px 3px 1px rgba(60, 64, 67, 0.15);\n",
              "      fill: #174EA6;\n",
              "    }\n",
              "\n",
              "    .colab-df-buttons div {\n",
              "      margin-bottom: 4px;\n",
              "    }\n",
              "\n",
              "    [theme=dark] .colab-df-convert {\n",
              "      background-color: #3B4455;\n",
              "      fill: #D2E3FC;\n",
              "    }\n",
              "\n",
              "    [theme=dark] .colab-df-convert:hover {\n",
              "      background-color: #434B5C;\n",
              "      box-shadow: 0px 1px 3px 1px rgba(0, 0, 0, 0.15);\n",
              "      filter: drop-shadow(0px 1px 2px rgba(0, 0, 0, 0.3));\n",
              "      fill: #FFFFFF;\n",
              "    }\n",
              "  </style>\n",
              "\n",
              "    <script>\n",
              "      const buttonEl =\n",
              "        document.querySelector('#df-44344e15-1315-4378-9fff-b60437cd4d7a button.colab-df-convert');\n",
              "      buttonEl.style.display =\n",
              "        google.colab.kernel.accessAllowed ? 'block' : 'none';\n",
              "\n",
              "      async function convertToInteractive(key) {\n",
              "        const element = document.querySelector('#df-44344e15-1315-4378-9fff-b60437cd4d7a');\n",
              "        const dataTable =\n",
              "          await google.colab.kernel.invokeFunction('convertToInteractive',\n",
              "                                                    [key], {});\n",
              "        if (!dataTable) return;\n",
              "\n",
              "        const docLinkHtml = 'Like what you see? Visit the ' +\n",
              "          '<a target=\"_blank\" href=https://colab.research.google.com/notebooks/data_table.ipynb>data table notebook</a>'\n",
              "          + ' to learn more about interactive tables.';\n",
              "        element.innerHTML = '';\n",
              "        dataTable['output_type'] = 'display_data';\n",
              "        await google.colab.output.renderOutput(dataTable, element);\n",
              "        const docLink = document.createElement('div');\n",
              "        docLink.innerHTML = docLinkHtml;\n",
              "        element.appendChild(docLink);\n",
              "      }\n",
              "    </script>\n",
              "  </div>\n",
              "\n",
              "\n",
              "<div id=\"df-8e0f7abc-1133-472c-b194-d01b88794504\">\n",
              "  <button class=\"colab-df-quickchart\" onclick=\"quickchart('df-8e0f7abc-1133-472c-b194-d01b88794504')\"\n",
              "            title=\"Suggest charts.\"\n",
              "            style=\"display:none;\">\n",
              "\n",
              "<svg xmlns=\"http://www.w3.org/2000/svg\" height=\"24px\"viewBox=\"0 0 24 24\"\n",
              "     width=\"24px\">\n",
              "    <g>\n",
              "        <path d=\"M19 3H5c-1.1 0-2 .9-2 2v14c0 1.1.9 2 2 2h14c1.1 0 2-.9 2-2V5c0-1.1-.9-2-2-2zM9 17H7v-7h2v7zm4 0h-2V7h2v10zm4 0h-2v-4h2v4z\"/>\n",
              "    </g>\n",
              "</svg>\n",
              "  </button>\n",
              "\n",
              "<style>\n",
              "  .colab-df-quickchart {\n",
              "      --bg-color: #E8F0FE;\n",
              "      --fill-color: #1967D2;\n",
              "      --hover-bg-color: #E2EBFA;\n",
              "      --hover-fill-color: #174EA6;\n",
              "      --disabled-fill-color: #AAA;\n",
              "      --disabled-bg-color: #DDD;\n",
              "  }\n",
              "\n",
              "  [theme=dark] .colab-df-quickchart {\n",
              "      --bg-color: #3B4455;\n",
              "      --fill-color: #D2E3FC;\n",
              "      --hover-bg-color: #434B5C;\n",
              "      --hover-fill-color: #FFFFFF;\n",
              "      --disabled-bg-color: #3B4455;\n",
              "      --disabled-fill-color: #666;\n",
              "  }\n",
              "\n",
              "  .colab-df-quickchart {\n",
              "    background-color: var(--bg-color);\n",
              "    border: none;\n",
              "    border-radius: 50%;\n",
              "    cursor: pointer;\n",
              "    display: none;\n",
              "    fill: var(--fill-color);\n",
              "    height: 32px;\n",
              "    padding: 0;\n",
              "    width: 32px;\n",
              "  }\n",
              "\n",
              "  .colab-df-quickchart:hover {\n",
              "    background-color: var(--hover-bg-color);\n",
              "    box-shadow: 0 1px 2px rgba(60, 64, 67, 0.3), 0 1px 3px 1px rgba(60, 64, 67, 0.15);\n",
              "    fill: var(--button-hover-fill-color);\n",
              "  }\n",
              "\n",
              "  .colab-df-quickchart-complete:disabled,\n",
              "  .colab-df-quickchart-complete:disabled:hover {\n",
              "    background-color: var(--disabled-bg-color);\n",
              "    fill: var(--disabled-fill-color);\n",
              "    box-shadow: none;\n",
              "  }\n",
              "\n",
              "  .colab-df-spinner {\n",
              "    border: 2px solid var(--fill-color);\n",
              "    border-color: transparent;\n",
              "    border-bottom-color: var(--fill-color);\n",
              "    animation:\n",
              "      spin 1s steps(1) infinite;\n",
              "  }\n",
              "\n",
              "  @keyframes spin {\n",
              "    0% {\n",
              "      border-color: transparent;\n",
              "      border-bottom-color: var(--fill-color);\n",
              "      border-left-color: var(--fill-color);\n",
              "    }\n",
              "    20% {\n",
              "      border-color: transparent;\n",
              "      border-left-color: var(--fill-color);\n",
              "      border-top-color: var(--fill-color);\n",
              "    }\n",
              "    30% {\n",
              "      border-color: transparent;\n",
              "      border-left-color: var(--fill-color);\n",
              "      border-top-color: var(--fill-color);\n",
              "      border-right-color: var(--fill-color);\n",
              "    }\n",
              "    40% {\n",
              "      border-color: transparent;\n",
              "      border-right-color: var(--fill-color);\n",
              "      border-top-color: var(--fill-color);\n",
              "    }\n",
              "    60% {\n",
              "      border-color: transparent;\n",
              "      border-right-color: var(--fill-color);\n",
              "    }\n",
              "    80% {\n",
              "      border-color: transparent;\n",
              "      border-right-color: var(--fill-color);\n",
              "      border-bottom-color: var(--fill-color);\n",
              "    }\n",
              "    90% {\n",
              "      border-color: transparent;\n",
              "      border-bottom-color: var(--fill-color);\n",
              "    }\n",
              "  }\n",
              "</style>\n",
              "\n",
              "  <script>\n",
              "    async function quickchart(key) {\n",
              "      const quickchartButtonEl =\n",
              "        document.querySelector('#' + key + ' button');\n",
              "      quickchartButtonEl.disabled = true;  // To prevent multiple clicks.\n",
              "      quickchartButtonEl.classList.add('colab-df-spinner');\n",
              "      try {\n",
              "        const charts = await google.colab.kernel.invokeFunction(\n",
              "            'suggestCharts', [key], {});\n",
              "      } catch (error) {\n",
              "        console.error('Error during call to suggestCharts:', error);\n",
              "      }\n",
              "      quickchartButtonEl.classList.remove('colab-df-spinner');\n",
              "      quickchartButtonEl.classList.add('colab-df-quickchart-complete');\n",
              "    }\n",
              "    (() => {\n",
              "      let quickchartButtonEl =\n",
              "        document.querySelector('#df-8e0f7abc-1133-472c-b194-d01b88794504 button');\n",
              "      quickchartButtonEl.style.display =\n",
              "        google.colab.kernel.accessAllowed ? 'block' : 'none';\n",
              "    })();\n",
              "  </script>\n",
              "</div>\n",
              "    </div>\n",
              "  </div>\n"
            ]
          },
          "metadata": {},
          "execution_count": 10
        }
      ]
    },
    {
      "cell_type": "markdown",
      "source": [
        "## (4) Buscar respuesta del Chatbot"
      ],
      "metadata": {
        "id": "O8vOOPADaTvS"
      }
    },
    {
      "cell_type": "markdown",
      "source": [
        "### Comparacion de Textos"
      ],
      "metadata": {
        "id": "ii1FhRjNaoo8"
      }
    },
    {
      "cell_type": "code",
      "source": [
        "# Funcion para verificar si el usuario inicio un dialogo\n",
        "def dialogo(pregunta_usuario, df_registros):\n",
        "\n",
        "  # Al igual que la normalizacion de preguntas, eliminamos caracteres como normalizados\n",
        "  pregunta_user_tratada = re.sub(\n",
        "      r\"[^\\w\\s]\",\n",
        "      '',\n",
        "      tratamiento_texto(pregunta_usuario)\n",
        "      )\n",
        "\n",
        "  # Crear un vectorizador y entrenarlo con tus datos\n",
        "  vectorizador = TfidfVectorizer()\n",
        "  tfidf_matrix = vectorizador.fit_transform(df_dialogo['dialogo'])\n",
        "\n",
        "  # Funcion interseccion\n",
        "  def interseccion(texto_user, texto_comparar):\n",
        "\n",
        "    #Transformamos a Set un string\n",
        "    user_text = set(texto_user)\n",
        "    df_text = set(texto_comparar)\n",
        "\n",
        "    # Calculo de interseccion\n",
        "    per_words_commun = len(list(user_text & df_text)) / len(list(user_text))\n",
        "\n",
        "\n",
        "    return per_words_commun\n",
        "\n",
        "  # Funcion similarity\n",
        "  def similarity(texto_user, texto_comparar, tfidf_matrix):\n",
        "\n",
        "    # Transformamos y obtenemos la union entre los registros\n",
        "    text_user_vector = vectorizador.transform([texto_user])\n",
        "\n",
        "     # Calcular la similitud coseno entre el texto del usuario y el texto de comparación\n",
        "    similarity_score = cosine_similarity(text_user_vector, tfidf_matrix)\n",
        "\n",
        "    return similarity_score[0][0]\n",
        "\n",
        "\n",
        "  # Recorremos cada fila para buscar cercania de pregunta con dialogo\n",
        "  for idx, row in df_registros.iterrows():\n",
        "    df_registros.at[idx, 'interseccion'] = interseccion(pregunta_user_tratada, row)\n",
        "    df_registros.at[idx, 'jaro_winkler'] = jellyfish.jaro_winkler_similarity(pregunta_user_tratada,row)\n",
        "    df_registros.at[idx, 'similarity'] = ''\n"
      ],
      "metadata": {
        "id": "Ilb2CIr6bEqc"
      },
      "execution_count": null,
      "outputs": []
    },
    {
      "cell_type": "code",
      "source": [
        "# Crear un vectorizador y entrenarlo con tus datos\n",
        "vectorizador = TfidfVectorizer()\n",
        "tfidf_matrix = vectorizador.fit_transform(df_dialogo.dialogo)\n",
        "\n",
        "# Cadenas de texto\n",
        "texto1 = 'hola como estas'\n",
        "texto2 = 'muy bien y tu'\n",
        "\n",
        "# Funcion similarity\n",
        "def similarity(texto_user, texto_comparar, tfidf_matrix):\n",
        "\n",
        "  # Transformamos y obtenemos la union entre los registros\n",
        "  text_user_vector = vectorizador.transform([texto_user, texto_comparar])\n",
        "\n",
        "  # Calcular la similitud coseno entre el texto del usuario y el texto de comparación\n",
        "  similarity_score = cosine_similarity(text_user_vector,tfidf_matrix )\n",
        "\n",
        "  return similarity_score[0][0]\n",
        "\n",
        "similarity(texto1, texto2,tfidf_matrix)\n"
      ],
      "metadata": {
        "colab": {
          "base_uri": "https://localhost:8080/"
        },
        "id": "JxLlQkprfIUO",
        "outputId": "9d423f13-01a0-4b6b-b8c0-8aef6c8f272e"
      },
      "execution_count": 47,
      "outputs": [
        {
          "output_type": "execute_result",
          "data": {
            "text/plain": [
              "0.0"
            ]
          },
          "metadata": {},
          "execution_count": 47
        }
      ]
    },
    {
      "cell_type": "code",
      "source": [
        "from sklearn.feature_extraction.text import TfidfVectorizer\n",
        "from sklearn.metrics.pairwise import cosine_similarity\n",
        "\n",
        "# Cadenas de texto\n",
        "texto1 = 'diego nalli garcia'\n",
        "texto2 = 'alfredo nalli urtubia'\n",
        "\n",
        "# Funcion similarity\n",
        "def similarity(texto_user, texto_comparar):\n",
        "\n",
        "  # Iniciar vectorizador\n",
        "  vectorizador =  TfidfVectorizer()\n",
        "\n",
        "  # Entrenamos vectorizador\n",
        "  matriz_tfid = vectorizador.fit_transform(df_dialogo.dialogo)\n",
        "\n",
        "  # Transformamos y obtenemos la union entre los registros\n",
        "  text_user_registro = vectorizador.transform([texto_user])\n",
        "\n",
        "  return text_user_registro\n",
        "\n",
        "print(similarity(texto1, texto2))"
      ],
      "metadata": {
        "colab": {
          "base_uri": "https://localhost:8080/"
        },
        "id": "lO9qSJnJGeKP",
        "outputId": "d9e9f3d5-3b07-44a8-a9f5-e98ffdde8fb9"
      },
      "execution_count": 41,
      "outputs": [
        {
          "output_type": "stream",
          "name": "stdout",
          "text": [
            "\n"
          ]
        }
      ]
    }
  ]
}