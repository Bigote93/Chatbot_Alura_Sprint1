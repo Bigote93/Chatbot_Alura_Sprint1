{
  "nbformat": 4,
  "nbformat_minor": 0,
  "metadata": {
    "colab": {
      "provenance": [],
      "authorship_tag": "ABX9TyM5VyQQjNIiDu9YjQuzLhfx",
      "include_colab_link": true
    },
    "kernelspec": {
      "name": "python3",
      "display_name": "Python 3"
    },
    "language_info": {
      "name": "python"
    }
  },
  "cells": [
    {
      "cell_type": "markdown",
      "metadata": {
        "id": "view-in-github",
        "colab_type": "text"
      },
      "source": [
        "<a href=\"https://colab.research.google.com/github/Bigote93/Chatbot_Alura_Sprint1/blob/main/Chatbot_Inteligente_Alura_Sprint1.ipynb\" target=\"_parent\"><img src=\"https://colab.research.google.com/assets/colab-badge.svg\" alt=\"Open In Colab\"/></a>"
      ]
    },
    {
      "cell_type": "markdown",
      "source": [
        "# Sprint 01 - Chatbot - Alura Latam"
      ],
      "metadata": {
        "id": "nKLW9p__17N2"
      }
    },
    {
      "cell_type": "markdown",
      "source": [
        "### (*) Configuracion ambiente"
      ],
      "metadata": {
        "id": "SW4eS6pkXjhr"
      }
    },
    {
      "cell_type": "code",
      "source": [
        "!pip install scipy\n",
        "!pip install transformers\n",
        "!pip install jellyfish\n"
      ],
      "metadata": {
        "colab": {
          "base_uri": "https://localhost:8080/"
        },
        "id": "ET3Pj5bM8oZL",
        "outputId": "8608975d-1d3b-452a-b65e-3e26d1bebeb2"
      },
      "execution_count": 1,
      "outputs": [
        {
          "output_type": "stream",
          "name": "stdout",
          "text": [
            "Requirement already satisfied: scipy in /usr/local/lib/python3.10/dist-packages (1.11.3)\n",
            "Requirement already satisfied: numpy<1.28.0,>=1.21.6 in /usr/local/lib/python3.10/dist-packages (from scipy) (1.23.5)\n",
            "Collecting transformers\n",
            "  Downloading transformers-4.34.0-py3-none-any.whl (7.7 MB)\n",
            "\u001b[2K     \u001b[90m━━━━━━━━━━━━━━━━━━━━━━━━━━━━━━━━━━━━━━━━\u001b[0m \u001b[32m7.7/7.7 MB\u001b[0m \u001b[31m45.3 MB/s\u001b[0m eta \u001b[36m0:00:00\u001b[0m\n",
            "\u001b[?25hRequirement already satisfied: filelock in /usr/local/lib/python3.10/dist-packages (from transformers) (3.12.4)\n",
            "Collecting huggingface-hub<1.0,>=0.16.4 (from transformers)\n",
            "  Downloading huggingface_hub-0.17.3-py3-none-any.whl (295 kB)\n",
            "\u001b[2K     \u001b[90m━━━━━━━━━━━━━━━━━━━━━━━━━━━━━━━━━━━━━━\u001b[0m \u001b[32m295.0/295.0 kB\u001b[0m \u001b[31m28.1 MB/s\u001b[0m eta \u001b[36m0:00:00\u001b[0m\n",
            "\u001b[?25hRequirement already satisfied: numpy>=1.17 in /usr/local/lib/python3.10/dist-packages (from transformers) (1.23.5)\n",
            "Requirement already satisfied: packaging>=20.0 in /usr/local/lib/python3.10/dist-packages (from transformers) (23.2)\n",
            "Requirement already satisfied: pyyaml>=5.1 in /usr/local/lib/python3.10/dist-packages (from transformers) (6.0.1)\n",
            "Requirement already satisfied: regex!=2019.12.17 in /usr/local/lib/python3.10/dist-packages (from transformers) (2023.6.3)\n",
            "Requirement already satisfied: requests in /usr/local/lib/python3.10/dist-packages (from transformers) (2.31.0)\n",
            "Collecting tokenizers<0.15,>=0.14 (from transformers)\n",
            "  Downloading tokenizers-0.14.1-cp310-cp310-manylinux_2_17_x86_64.manylinux2014_x86_64.whl (3.8 MB)\n",
            "\u001b[2K     \u001b[90m━━━━━━━━━━━━━━━━━━━━━━━━━━━━━━━━━━━━━━━━\u001b[0m \u001b[32m3.8/3.8 MB\u001b[0m \u001b[31m88.9 MB/s\u001b[0m eta \u001b[36m0:00:00\u001b[0m\n",
            "\u001b[?25hCollecting safetensors>=0.3.1 (from transformers)\n",
            "  Downloading safetensors-0.4.0-cp310-cp310-manylinux_2_17_x86_64.manylinux2014_x86_64.whl (1.3 MB)\n",
            "\u001b[2K     \u001b[90m━━━━━━━━━━━━━━━━━━━━━━━━━━━━━━━━━━━━━━━━\u001b[0m \u001b[32m1.3/1.3 MB\u001b[0m \u001b[31m73.9 MB/s\u001b[0m eta \u001b[36m0:00:00\u001b[0m\n",
            "\u001b[?25hRequirement already satisfied: tqdm>=4.27 in /usr/local/lib/python3.10/dist-packages (from transformers) (4.66.1)\n",
            "Requirement already satisfied: fsspec in /usr/local/lib/python3.10/dist-packages (from huggingface-hub<1.0,>=0.16.4->transformers) (2023.6.0)\n",
            "Requirement already satisfied: typing-extensions>=3.7.4.3 in /usr/local/lib/python3.10/dist-packages (from huggingface-hub<1.0,>=0.16.4->transformers) (4.5.0)\n",
            "Requirement already satisfied: charset-normalizer<4,>=2 in /usr/local/lib/python3.10/dist-packages (from requests->transformers) (3.3.0)\n",
            "Requirement already satisfied: idna<4,>=2.5 in /usr/local/lib/python3.10/dist-packages (from requests->transformers) (3.4)\n",
            "Requirement already satisfied: urllib3<3,>=1.21.1 in /usr/local/lib/python3.10/dist-packages (from requests->transformers) (2.0.6)\n",
            "Requirement already satisfied: certifi>=2017.4.17 in /usr/local/lib/python3.10/dist-packages (from requests->transformers) (2023.7.22)\n",
            "Installing collected packages: safetensors, huggingface-hub, tokenizers, transformers\n",
            "Successfully installed huggingface-hub-0.17.3 safetensors-0.4.0 tokenizers-0.14.1 transformers-4.34.0\n",
            "Collecting jellyfish\n",
            "  Downloading jellyfish-1.0.1-cp310-cp310-manylinux_2_17_x86_64.manylinux2014_x86_64.whl (1.2 MB)\n",
            "\u001b[2K     \u001b[90m━━━━━━━━━━━━━━━━━━━━━━━━━━━━━━━━━━━━━━━━\u001b[0m \u001b[32m1.2/1.2 MB\u001b[0m \u001b[31m15.0 MB/s\u001b[0m eta \u001b[36m0:00:00\u001b[0m\n",
            "\u001b[?25hInstalling collected packages: jellyfish\n",
            "Successfully installed jellyfish-1.0.1\n"
          ]
        }
      ]
    },
    {
      "cell_type": "code",
      "source": [
        "#Recursos y librerias\n",
        "import pandas as pd\n",
        "import re, os, random, pickle\n",
        "\n",
        "from sklearn.feature_extraction.text import TfidfTransformer\n",
        "from sklearn.metrics.pairwise import cosine_similarity\n",
        "from sklearn.feature_extraction.text import TfidfVectorizer\n",
        "\n",
        "import spacy\n",
        "import jellyfish\n",
        "\n",
        "from transformers import BertForSequenceClassification\n",
        "from transformers import BertTokenizer\n",
        "\n",
        "import torch\n",
        "\n",
        "nltk.download('punkt')"
      ],
      "metadata": {
        "id": "Xr3aXyPv5zIf"
      },
      "execution_count": 2,
      "outputs": []
    },
    {
      "cell_type": "code",
      "execution_count": 3,
      "metadata": {
        "colab": {
          "base_uri": "https://localhost:8080/"
        },
        "id": "o8bakXByzeVt",
        "outputId": "59743ce4-b8db-4134-92c6-a29c5b2d5477"
      },
      "outputs": [
        {
          "output_type": "stream",
          "name": "stdout",
          "text": [
            "Mounted at /content/drive\n"
          ]
        }
      ],
      "source": [
        "from google.colab import drive\n",
        "drive.mount('/content/drive')"
      ]
    },
    {
      "cell_type": "markdown",
      "source": [
        "## (1) Lista de carga de verbos"
      ],
      "metadata": {
        "id": "uDeL5WDW2UQb"
      }
    },
    {
      "cell_type": "code",
      "source": [
        "#Instanciamos la lista de verbos\n",
        "verbos_irregulares = []\n",
        "#Direccion de lista de verbos\n",
        "path_lista_verbos = '/content/drive/MyDrive/Chatbot/verbos/verbos_irregulares.pickle'\n",
        "\n",
        "#Comprobar el tamaño del archivo\n",
        "tamaño_archivo = os.path.getsize(path_lista_verbos)\n",
        "\n",
        "if tamaño_archivo == 0:\n",
        "    print(\"El archivo está vacío.\")\n",
        "else:\n",
        "    #Apertura de documentos\n",
        "    fichero_listaverbos = open(path_lista_verbos, 'rb')\n",
        "\n",
        "    #Cargar fichero\n",
        "    verbos_irregulares = pickle.load(fichero_listaverbos)"
      ],
      "metadata": {
        "id": "uucqZiPr2X5S"
      },
      "execution_count": 51,
      "outputs": []
    },
    {
      "cell_type": "code",
      "source": [
        "#Instanciamos la lista de verbos\n",
        "lista_verbos = []\n",
        "#Direccion de lista de verbos\n",
        "path_lista_verbos = '/content/drive/MyDrive/Chatbot/verbos/lista_verbos.pickle'\n",
        "\n",
        "#Comprobar el tamaño del archivo\n",
        "tamaño_archivo = os.path.getsize(path_lista_verbos)\n",
        "\n",
        "if tamaño_archivo == 0:\n",
        "    print(\"El archivo está vacío.\")\n",
        "else:\n",
        "    #Apertura de documentos\n",
        "    fichero_listaverbos = open(path_lista_verbos, 'rb')\n",
        "\n",
        "    #Cargar fichero\n",
        "    lista_verbos = pickle.load(fichero_listaverbos)\n",
        "\n"
      ],
      "metadata": {
        "id": "gRP1Ghq18f5F"
      },
      "execution_count": 52,
      "outputs": []
    },
    {
      "cell_type": "markdown",
      "source": [
        "### Incorporando **verbos_irregulares** que no estan presente en **lista_verbos**"
      ],
      "metadata": {
        "id": "Dr7f8m7qkDLf"
      }
    },
    {
      "cell_type": "markdown",
      "source": [
        "### Solucionar verbos separados por caracter <_**'  '**_ >  "
      ],
      "metadata": {
        "id": "CjUIsYih3HUj"
      }
    },
    {
      "cell_type": "code",
      "source": [
        "# Verbos de la lista_verbos que tienen auxiliares o estan separados por caracteres de espacio\n",
        "\n",
        "for verbo in lista_verbos:\n",
        "  if ' ' in verbo:\n",
        "    print(verbo)"
      ],
      "metadata": {
        "colab": {
          "base_uri": "https://localhost:8080/"
        },
        "id": "imguXPIY2uF4",
        "outputId": "95fd8fd7-89a8-45ee-b50c-de68354f3df5"
      },
      "execution_count": 53,
      "outputs": [
        {
          "output_type": "stream",
          "name": "stdout",
          "text": [
            "amaran o amasen\n",
            "amaramos o amasemos\n",
            "wasapearais o wasapeaseis\n",
            "hemos wasapeado\n",
            "has wasapeado\n",
            "ha wasapeado\n",
            "he wasapeado\n",
            "wasapeara o wasapease\n",
            "amaras o amases\n",
            "wasapearan o wasapeasen\n",
            "amarais o amaseis\n",
            "amara o amase\n",
            "ellas wasapeaban\n",
            "wasapearamos o wasapeasemos\n",
            "wasapearas o wasapeases\n",
            "han wasapeado\n"
          ]
        }
      ]
    },
    {
      "cell_type": "code",
      "source": [
        "# Agregamos el verbo \"wasapear\"\n",
        "\n",
        "# Conjugaciones\n",
        "wasapear_conj = [\n",
        "    'wasapeo','wasapeas','wasapea','wasapean','wasapeamos','wasapeais',\n",
        "    'wasapee','wasapeaste','wasapeo','wasapeamos','wasapeasteis','wasapearon',\n",
        "    'wasapeare','wasapearas','wasapeara','wasapearemos','wasapeareis','wasapearan'\n",
        "    ]\n",
        "\n",
        "\n",
        "# Incorporacion a lista verbos_irregulares\n",
        "for whatsap_conj in wasapear_conj:\n",
        "  verbos_irregulares[whatsap_conj] = 'wasapear'"
      ],
      "metadata": {
        "id": "nRYMZXaDKmgM"
      },
      "execution_count": 54,
      "outputs": []
    },
    {
      "cell_type": "code",
      "source": [
        "# Eliminar verbos a conjugados\n",
        "for verbo in lista_verbos:\n",
        "  if ' ' in verbo:\n",
        "    lista_verbos.remove(verbo)\n",
        "\n",
        "# Verificamos su eliminacion\n",
        "for verbo in lista_verbos:\n",
        "  if ' ' in verbo:\n",
        "    print(verbo)"
      ],
      "metadata": {
        "id": "8KFBrNFuPxcY"
      },
      "execution_count": 55,
      "outputs": []
    },
    {
      "cell_type": "code",
      "source": [
        "# Verbos de los verbos_irregulares que tienen auxiliares o estan separados por caracteres de espacio\n",
        "for verbo in verbos_irregulares.keys():\n",
        "  if ' ' in verbo:\n",
        "    print(verbo)\n",
        "\n",
        "for verbo in verbos_irregulares.values():\n",
        "  if ' ' in verbo:\n",
        "    print(verbo)"
      ],
      "metadata": {
        "id": "uco1D5txCnL-"
      },
      "execution_count": 56,
      "outputs": []
    },
    {
      "cell_type": "markdown",
      "source": [
        "## (2) Tratamiento de datos"
      ],
      "metadata": {
        "id": "wn4BEBH4-BQw"
      }
    },
    {
      "cell_type": "markdown",
      "source": [
        "### Pronombres"
      ],
      "metadata": {
        "id": "F-37I4FRZqD5"
      }
    },
    {
      "cell_type": "code",
      "source": [
        "pronombres = [\n",
        "    \"yo\",\"tu\",\"el\",\"ella\",\"usted\",\"nosotros\",\"nosotras\",\"vosotros\",\n",
        "    \"vosotras\",\"ellos\",\"ellas\",\"ustedes\",\n",
        "    \"mi\",\"tu\",\"su\",\"nuestro\",\"nuestra\",\"vuestro\",\"vuestra\",\n",
        "    \"su\",\"este\",\"esta\",\"ese\",\"esa\",\"aquel\",\"aquella\",\"estos\",\"estas\",\n",
        "    \"esos\",\"esas\",\"aquellos\",\"aquellas\",\"que\",\"cual\",\"quien\",\"cuyo\",\"cuya\",\n",
        "    \"donde\",\"alguien\",\"nadie\",\"algun\",\"alguna\",\"ningun\",\"ninguna\",\"cualquiera\",\n",
        "    \"nada\",\"algo\",\"todo\",\"toda\"]\n",
        "\n",
        "adverbios_de_lugar = [\n",
        "    \"aqui\", \"ahi\", \"alli\", \"cerca\", \"lejos\", \"encima\", \"debajo\",\n",
        "    \"delante\", \"detras\", \"adentro\", \"afuera\", \"arriba\", \"abajo\",\n",
        "    \"fuera\", \"dentro\", \"aca\", \"alla\", \"donde\"\n",
        "    ]\n",
        "\n",
        "adverbios_de_tiempo = [\n",
        "    \"ahora\", \"antes\", \"despues\", \"hoy\", \"manana\", \"tarde\", \"temprano\",\n",
        "    \"siempre\", \"nunca\", \"ayer\", \"pronto\", \"luego\", \"todavia\", \"ya\",\n",
        "    \"anteriormente\", \"actualmente\", \"frecuentemente\", \"raramente\", \"todavia\",\n",
        "    \"tambien\", \"todavia\", \"tampoco\", \"ya\", \"hoy\"\n",
        "    ]\n",
        "\n",
        "adverbios_de_modo = [\n",
        "    \"asi\", \"bien\", \"mal\", \"mejor\", \"peor\", \"lentamente\",\n",
        "    \"rapidamente\", \"claramente\", \"directamente\", \"fuertemente\",\n",
        "    \"suavemente\", \"cuidadosamente\", \"juntos\", \"separados\",\n",
        "    \"adrede\", \"aposta\", \"deprisa\", \"despacio\", \"felizmente\",\n",
        "    \"tristemente\", \"correctamente\", \"incorrectamente\"\n",
        "    ]\n",
        "\n",
        "adverbios_de_cantidad = [\n",
        "    \"mucho\", \"poco\", \"bastante\", \"mas\", \"menos\", \"demasiado\",\n",
        "    \"casi\", \"exactamente\", \"muy\", \"tan\", \"poco\", \"todo\", \"nada\",\n",
        "    \"algo\", \"casi\", \"medio\", \"suficiente\", \"apenas\", \"bien\", \"mal\"\n",
        "    ]\n",
        "\n",
        "adverbios_de_informacion = [\"cuando\", \"donde\", \"como\", \"porque\", \"cuanto\", \"cual\", \"quien\", \"que\"]\n",
        "\n",
        "adverbios_de_afirmacion_y_negacion = [\"si\", \"no\", \"tampoco\", \"así\", \"también\", \"jamás\", \"nunca\", \"sí\", \"certamente\", \"seguramente\", \"indudablemente\"]\n",
        "\n",
        "advervios = adverbios_de_lugar + adverbios_de_tiempo + adverbios_de_modo + adverbios_de_cantidad + adverbios_de_informacion + adverbios_de_afirmacion_y_negacion\n",
        "\n",
        "regex_words = pronombres + advervios\n",
        "\n"
      ],
      "metadata": {
        "id": "75RdKccSZmiR"
      },
      "execution_count": 57,
      "outputs": []
    },
    {
      "cell_type": "code",
      "source": [
        "# Verificar si existe un regex_words en ls lista verbos\n",
        "elementos_a_eliminar = []\n",
        "for elemento in lista_verbos:\n",
        "  if elemento in regex_words:\n",
        "    elementos_a_eliminar.append(elemento)\n",
        "\n",
        "elementos_a_eliminar"
      ],
      "metadata": {
        "colab": {
          "base_uri": "https://localhost:8080/"
        },
        "id": "TtSUwEXRDP0w",
        "outputId": "a8d7889d-4a85-4260-fc83-b8194b0f16f1"
      },
      "execution_count": 58,
      "outputs": [
        {
          "output_type": "execute_result",
          "data": {
            "text/plain": [
              "['nosotros', 'ellos', 'ella', 'vosotros', 'ustedes', 'ellas']"
            ]
          },
          "metadata": {},
          "execution_count": 58
        }
      ]
    },
    {
      "cell_type": "code",
      "source": [
        "# ELiminar pronombres de la lista_verbos\n",
        "\n",
        "lista_verbos = [elemento for elemento in lista_verbos if elemento not in elementos_a_eliminar]\n",
        "\n",
        "# Verificar si existen los elementos eliminados\n",
        "\n",
        "elementos_a_eliminar = []\n",
        "for elemento in lista_verbos:\n",
        "  if elemento in regex_words:\n",
        "    elementos_a_eliminar.append(elemento)\n",
        "\n",
        "len((elementos_a_eliminar))\n"
      ],
      "metadata": {
        "colab": {
          "base_uri": "https://localhost:8080/"
        },
        "id": "mVmr34jlDzOq",
        "outputId": "534b6802-ebd3-42f2-b780-5ab619ef2610"
      },
      "execution_count": 59,
      "outputs": [
        {
          "output_type": "execute_result",
          "data": {
            "text/plain": [
              "0"
            ]
          },
          "metadata": {},
          "execution_count": 59
        }
      ]
    },
    {
      "cell_type": "code",
      "source": [
        "# Cantidad de verbos\n",
        "print(f'Lista de verbos infinitivos: {len(lista_verbos)}')\n",
        "print(f'Lista de verbos irregulares: {len(verbos_irregulares.keys())}')"
      ],
      "metadata": {
        "colab": {
          "base_uri": "https://localhost:8080/"
        },
        "id": "Pl7Eng-9Etml",
        "outputId": "40b5f554-439a-427f-cb93-23f379dadedf"
      },
      "execution_count": 60,
      "outputs": [
        {
          "output_type": "stream",
          "name": "stdout",
          "text": [
            "Lista de verbos infinitivos: 1725\n",
            "Lista de verbos irregulares: 131\n"
          ]
        }
      ]
    },
    {
      "cell_type": "markdown",
      "source": [
        "### Raiz de los verbos\n",
        "\n",
        "Función raiz que reciba una palabra y la compare con todas las palabras de la lista_verbos utilizando jaro_winkler , y que devuelva la palabra de lista_verbos con mayor similaridad a la palabra ingresada.\n",
        "\n",
        "> Observación: Si la palabra encontrada, con mayor similaridad, no supera el radio de 0.93 entonces deberá regresar la palabra original."
      ],
      "metadata": {
        "id": "eRpzMRMMAaUw"
      }
    },
    {
      "cell_type": "code",
      "source": [
        "def raiz_verbo(verbo_analizar):\n",
        "\n",
        "  #Lista de verbos cercanos\n",
        "  verbos_cercanos = []\n",
        "\n",
        "  #Recorremos la lista de verbos\n",
        "  for verbo in lista_verbos:\n",
        "    #Condicionador de verbos y adjuntar a la lista\n",
        "    if jellyfish.jaro_winkler_similarity(verbo,verbo_analizar) >= 0.93:\n",
        "      # Creamoos un array de dos variables de la palabra y el valor de probabilidad cercania\n",
        "      verbos_cercanos.append([jellyfish.jaro_winkler_similarity(verbo_analizar,verbo), verbo])\n",
        "\n",
        "    else:\n",
        "      verbo_cercano = verbo_analizar\n",
        "\n",
        "  # Extraer el valor mas alto\n",
        "  if len(verbos_cercanos)>0:\n",
        "    verbo_cercano = max(verbos_cercanos, key=lambda x: x[0])[1]\n",
        "\n",
        "  return verbo_cercano\n",
        "\n",
        "#Aplicacion\n",
        "print(raiz_verbo('wasapior'))"
      ],
      "metadata": {
        "colab": {
          "base_uri": "https://localhost:8080/"
        },
        "id": "s13Av-o-AWyw",
        "outputId": "218b55c6-bc47-4398-ebc7-25e43059b706"
      },
      "execution_count": 152,
      "outputs": [
        {
          "output_type": "stream",
          "name": "stdout",
          "text": [
            "wasapior\n"
          ]
        }
      ]
    },
    {
      "cell_type": "markdown",
      "source": [
        "### Tratamiento de texto\n",
        "\n",
        "Función tratamiento_texto que reciba una frase de texto y devuelva la misma frase pero sin acentuaciones, todo en minúscula y sin espacios en blanco adicionales.\n",
        "\n",
        "Ejemplo:\n",
        "\n",
        "```\n",
        "# Ejemplo visualizacion\n",
        "\n",
        "tratamiento_texto('¡Buen día!, ¿Cómo está todo hoy?')\n",
        "\n",
        ">> '¡buen dia!, ¿como esta todo hoy?'\n",
        "\n",
        "```\n",
        "\n"
      ],
      "metadata": {
        "id": "mioDReBaFPyX"
      }
    },
    {
      "cell_type": "code",
      "source": [
        "def tratamiento_texto(texto):\n",
        "\n",
        "  # Convertimos el texto a minúsculas.\n",
        "  if texto is not None:\n",
        "    texto_minusculas = texto.lower()\n",
        "    # Eliminamos los caracteres con tildes.\n",
        "    texto_tratado = texto_minusculas.replace(\"á\", \"a\").replace(\"é\", \"e\").replace(\"í\", \"i\").replace(\"ó\", \"o\").replace(\"ú\", \"u\")\n",
        "    return texto_tratado\n",
        "\n",
        "tratamiento_texto('Comisté')"
      ],
      "metadata": {
        "colab": {
          "base_uri": "https://localhost:8080/",
          "height": 35
        },
        "id": "9YQWQL_4GDNC",
        "outputId": "211f6252-1870-420a-b0c2-07f4d4ee3d55"
      },
      "execution_count": 62,
      "outputs": [
        {
          "output_type": "execute_result",
          "data": {
            "text/plain": [
              "'comiste'"
            ],
            "application/vnd.google.colaboratory.intrinsic+json": {
              "type": "string"
            }
          },
          "metadata": {},
          "execution_count": 62
        }
      ]
    },
    {
      "cell_type": "markdown",
      "source": [
        "### Terminacion de palabras\n",
        "\n",
        "Función reemplazar_terminacion que reciba una palabra e identifique si la misma termina en alguna de las siguientes palabras: “es”, “me”, “as”, “te”, “ste”, si coincide, entonces que substituya esa terminación por la letra “r”."
      ],
      "metadata": {
        "id": "teTV0vy2HBvb"
      }
    },
    {
      "cell_type": "code",
      "source": [
        "def reemplazar_terminacion(palabra):\n",
        "\n",
        "  terminaciones = ['ste','es','me','as','te',]\n",
        "  #Verificar si tiene terminacion\n",
        "\n",
        "  for terminacion in terminaciones:\n",
        "    if palabra.endswith(terminacion):\n",
        "\n",
        "      #Cambiar la terminacion de la palabra\n",
        "      verbo_infinitivo = palabra[:-len(terminacion)]+'r'\n",
        "\n",
        "      #Asignar la palabra modificada a la variable\n",
        "      return verbo_infinitivo\n",
        "    # En caso de no terminar con alguna terminacion, se devuelve la palabra ingresada\n",
        "    else:\n",
        "      return palabra\n",
        "\n",
        "# Ejemplo de uso:\n",
        "reemplazar_terminacion('comiste')\n"
      ],
      "metadata": {
        "id": "a6BRyCLNH2Fu",
        "colab": {
          "base_uri": "https://localhost:8080/",
          "height": 35
        },
        "outputId": "b5fed2a1-62f4-450d-a8f5-aeac7f2bbc50"
      },
      "execution_count": 153,
      "outputs": [
        {
          "output_type": "execute_result",
          "data": {
            "text/plain": [
              "'comir'"
            ],
            "application/vnd.google.colaboratory.intrinsic+json": {
              "type": "string"
            }
          },
          "metadata": {},
          "execution_count": 153
        }
      ]
    },
    {
      "cell_type": "markdown",
      "source": [
        "### Normalizacion de textos\n",
        "\n",
        "Crear una funcion que identifique la categoria de la palabra.\n",
        "\n",
        ">Observacion: Antes de realizarlo, debemos aplicar la funcion de puntuacion y tildes para limpiar la oracion\n",
        "\n",
        "> No usaremos el modelo nlp debido a que varios verbos no son reconocidos y son atribuidos a una posicion diferente. (1476 verbos mal clasificados)\n",
        "\n",
        "Ejemplo: 'cosas' -> VERB\n"
      ],
      "metadata": {
        "id": "27kwf5a8RwOO"
      }
    },
    {
      "cell_type": "code",
      "source": [
        "import nltk\n",
        "\n",
        "from nltk.tokenize import word_tokenize\n",
        "\n",
        "def normalizar(texto):\n",
        "\n",
        "  # Almacenamos los tokens en una lista\n",
        "  token_list = []\n",
        "\n",
        "  # Quitamos los tildes de la oracion y cambiamos las acentuaciones\n",
        "  texto = tratamiento_texto(re.sub(r'[^\\w\\s+\\-*/]', '', texto))\n",
        "\n",
        "  # Tokenizar la frase\n",
        "  tokens = word_tokenize(texto)\n",
        "\n",
        "  # Barrimos cada token\n",
        "  for token in tokens:\n",
        "\n",
        "    if token in lista_verbos or token in verbos_irregulares.keys():\n",
        "\n",
        "      if token in list(verbos_irregulares.keys()):\n",
        "\n",
        "        verbo_infinitivo = verbos_irregulares[token]\n",
        "        token_list.append(raiz_verbo(verbo_infinitivo))\n",
        "\n",
        "      else:\n",
        "        token_list.append(verbos_irregulares[token])\n",
        "\n",
        "    else:\n",
        "      token_list.append(reemplazar_terminacion(token))\n",
        "\n",
        "  return ' '.join(token_list)\n",
        "\n",
        "print(normalizar(\"Por favor, dime cómo se gusta un estas café, endulzarlo con azúcar y disfrutarlo en la terraza.\"))\n"
      ],
      "metadata": {
        "colab": {
          "base_uri": "https://localhost:8080/"
        },
        "id": "yTCZ9PJA3p0k",
        "outputId": "e8d373e9-8933-4551-ccc2-e56314b15c13"
      },
      "execution_count": 174,
      "outputs": [
        {
          "output_type": "stream",
          "name": "stdout",
          "text": [
            "por favor decir como se gusta un estar cafe endulzarlo con azucar y disfrutarlo en la terraza\n"
          ]
        }
      ]
    },
    {
      "cell_type": "code",
      "source": [
        "#'estar' in verbos_irregulares.values()\n",
        "#'aprender' in lista_verbos\n",
        "verbos_irregulares['estas']"
      ],
      "metadata": {
        "colab": {
          "base_uri": "https://localhost:8080/",
          "height": 35
        },
        "id": "iQRN91j0dCpH",
        "outputId": "535ded0e-d371-42b0-a13a-c88320b4a698"
      },
      "execution_count": 172,
      "outputs": [
        {
          "output_type": "execute_result",
          "data": {
            "text/plain": [
              "'estar'"
            ],
            "application/vnd.google.colaboratory.intrinsic+json": {
              "type": "string"
            }
          },
          "metadata": {},
          "execution_count": 172
        }
      ]
    },
    {
      "cell_type": "markdown",
      "source": [
        "## (3) Cargar base de documentos"
      ],
      "metadata": {
        "id": "-9MPf4yuY0HL"
      }
    },
    {
      "cell_type": "markdown",
      "source": [
        "### Cargar preguntas"
      ],
      "metadata": {
        "id": "jTvXlIiJZTei"
      }
    },
    {
      "cell_type": "code",
      "source": [
        "# Generamos una ruta relativa para busqueda de elementos\n",
        "direccion_relativa = '/content/drive/MyDrive/Chatbot'\n",
        "dir_relativa_entrenamiento = direccion_relativa + '/dialogos'\n",
        "\n",
        "# Barrido de documentos internos el folder\n",
        "titulo_doc_list = [documento for documento in os.listdir(dir_relativa_entrenamiento) if documento.endswith('.txt')]\n",
        "\n",
        "# Creamos listas para almacenar contenidos\n",
        "lista_dialogos, lista_dialogos_respuesta, lista_dialogos_tipo = [], [], []\n",
        "\n",
        "#Recorremos los documentos para almacenar las oraciones\n",
        "for name_doc in range(len(titulo_doc_list)):\n",
        "\n",
        "  # Apertura de documentos con los titulos almacenados\n",
        "  doc = open(\n",
        "      dir_relativa_entrenamiento + '/' + titulo_doc_list[name_doc],\n",
        "      'r',\n",
        "      encoding = 'utf-8',\n",
        "      errors = 'ignore'\n",
        "      )\n",
        "\n",
        "  # Separar en lineas por cada texto\n",
        "  lineas = doc.read().split('\\n')\n",
        "\n",
        "  # Carga de lineas del documento abierto\n",
        "  for index, linea in enumerate(lineas):\n",
        "\n",
        "\n",
        "\n",
        "    if index % 2 != 0: # Par: Respuesta necesaria\n",
        "      lista_dialogos_respuesta.append(\n",
        "          tratamiento_texto(\n",
        "              re.sub(\n",
        "                  r\"[^\\w\\s+\\-*/]\",\n",
        "                  '',\n",
        "                  linea\n",
        "                  )\n",
        "              )\n",
        "          )\n",
        "\n",
        "      # Almacenar el tipo de linea\n",
        "      lista_dialogos_tipo.append(titulo_doc_list[name_doc].replace('.txt', ''))\n",
        "\n",
        "    else: # Impar: Pregunta a bot\n",
        "      lista_dialogos.append(\n",
        "          tratamiento_texto(\n",
        "              re.sub(\n",
        "                  r\"[^\\w\\s+\\-*/]\",\n",
        "                  '',\n",
        "                  linea\n",
        "                  )\n",
        "              ))\n",
        "print(f'El tamaño de dialogos es: {len(lista_dialogos)}')\n",
        "print(f'El tamaño de respuestas es: {len(lista_dialogos_respuesta)}')\n",
        "print(f'El tamaño de tipo es: {len(lista_dialogos_tipo)}')"
      ],
      "metadata": {
        "id": "EMdyDOUOY5Cz",
        "colab": {
          "base_uri": "https://localhost:8080/"
        },
        "outputId": "97903ec0-718e-4509-dd49-8a50c70da01a"
      },
      "execution_count": 157,
      "outputs": [
        {
          "output_type": "stream",
          "name": "stdout",
          "text": [
            "El tamaño de dialogos es: 1152\n",
            "El tamaño de respuestas es: 1152\n",
            "El tamaño de tipo es: 1152\n"
          ]
        }
      ]
    },
    {
      "cell_type": "code",
      "source": [
        "# Creamos dataframe \"df_dialogo\"\n",
        "datos_dialogo = {\n",
        "    'dialogo': lista_dialogos,\n",
        "    'respuesta': lista_dialogos_respuesta,\n",
        "    'tipo': lista_dialogos_tipo,\n",
        "    'interseccion': 0,\n",
        "    'jaro_winkler': 0,\n",
        "    'probabilidad': 0\n",
        "}\n",
        "\n",
        "#Instanciamos el dataframe\n",
        "df_dialogo = pd.DataFrame(datos_dialogo)\n",
        "\n",
        "#Eliminamos los registros que se han repetido\n",
        "df_dialogo = df_dialogo.drop_duplicates(keep = 'first')\n",
        "\n",
        "#Eliminamos el index del dataframe\n",
        "df_dialogo.reset_index(drop=True, inplace=True)\n",
        "\n",
        "df_dialogo['tipo'].unique()"
      ],
      "metadata": {
        "colab": {
          "base_uri": "https://localhost:8080/"
        },
        "id": "VkrAEq5VW_U9",
        "outputId": "c7e863a3-e04d-4424-c0a5-8d4120102aaa"
      },
      "execution_count": 158,
      "outputs": [
        {
          "output_type": "execute_result",
          "data": {
            "text/plain": [
              "array(['Aprendizaje', 'Edad', 'ElProfeAlejo', 'Error', 'Funcion',\n",
              "       'Identidad', 'Nombre', 'Origen', 'Saludos', 'Sentimiento',\n",
              "       'Usuario', 'Otros', 'Contacto', 'Continuacion', 'Despedida',\n",
              "       'Agradecimiento'], dtype=object)"
            ]
          },
          "metadata": {},
          "execution_count": 158
        }
      ]
    },
    {
      "cell_type": "markdown",
      "source": [
        "## (4) Buscar respuesta del Chatbot"
      ],
      "metadata": {
        "id": "O8vOOPADaTvS"
      }
    },
    {
      "cell_type": "markdown",
      "source": [
        "### Comparacion de Textos"
      ],
      "metadata": {
        "id": "ii1FhRjNaoo8"
      }
    },
    {
      "cell_type": "code",
      "source": [
        "# Funcion para verificar si el usuario inicio un dialogo\n",
        "def dialogo(pregunta_usuario, df):\n",
        "\n",
        "  df_registros = df.copy()\n",
        "\n",
        "  # Al igual que la normalizacion de preguntas, eliminamos caracteres como normalizados\n",
        "  pregunta_user_tratada = re.sub(\n",
        "      r\"[^\\w\\s]\",\n",
        "      '',\n",
        "      tratamiento_texto(pregunta_usuario)\n",
        "      )\n",
        "\n",
        "  # Crear un vectorizador y entrenarlo con tus datos\n",
        "  vectorizador = TfidfVectorizer()\n",
        "  tfidf_matrix = vectorizador.fit_transform(df_dialogo['dialogo'])\n",
        "\n",
        "  # Funcion interseccion: Cantidad de palabras en comun\n",
        "  def interseccion(texto_user, texto_comparar):\n",
        "\n",
        "    #Transformamos a Set un string\n",
        "    user_text = set(texto_user.split())\n",
        "    df_text = set(texto_comparar.split())\n",
        "\n",
        "    # Calculo de interseccion\n",
        "    per_words_commun = len(user_text.intersection(df_text)) / len(user_text)\n",
        "\n",
        "    return per_words_commun\n",
        "\n",
        "  # Funcion similarity valor de similitud matematica\n",
        "  def similarity(texto_user, texto_comparar):\n",
        "\n",
        "    # Transformamos y obtenemos la union entre los registros\n",
        "    text_user_vector = vectorizador.transform([texto_user])\n",
        "    text_comparar_vector = vectorizador.transform([texto_comparar])\n",
        "\n",
        "     # Calcular la similitud coseno entre el texto del usuario y el texto de comparación\n",
        "    similarity_score = cosine_similarity(text_user_vector, text_comparar_vector)\n",
        "\n",
        "    return similarity_score[0][0]\n",
        "\n",
        "\n",
        "  # Recorremos cada fila para buscar cercania de pregunta con dialogo\n",
        "  for idx, row in df_registros.iterrows():\n",
        "\n",
        "    df_registros.at[idx, 'interseccion'] = interseccion(pregunta_user_tratada, row['dialogo'])\n",
        "    df_registros.at[idx, 'jaro_winkler'] = jellyfish.jaro_winkler_similarity(pregunta_user_tratada,row['dialogo'])\n",
        "    df_registros.at[idx, 'similarity'] = similarity(pregunta_user_tratada, row['dialogo'])\n",
        "    df_registros.at[idx, 'probabilidad'] = max(df_registros.at[idx, 'interseccion'], df_registros.at[idx, 'similarity'], df_registros.at[idx, 'jaro_winkler'])\n",
        "\n",
        "  return df_registros\n"
      ],
      "metadata": {
        "id": "Ilb2CIr6bEqc"
      },
      "execution_count": 159,
      "outputs": []
    },
    {
      "cell_type": "code",
      "source": [
        "# Ejemplo:\n",
        "\n",
        "df_registros = dialogo('Me tengo que retirar a comer, gracias por tu ayuda', df_dialogo)\n",
        "\n",
        "df_registros.sort_values(by = 'probabilidad', ascending=False)"
      ],
      "metadata": {
        "colab": {
          "base_uri": "https://localhost:8080/",
          "height": 510
        },
        "id": "ykgkPpvy8wwr",
        "outputId": "7c6b0f3a-1e97-4616-a999-91ef3f2ccc72"
      },
      "execution_count": 160,
      "outputs": [
        {
          "output_type": "execute_result",
          "data": {
            "text/plain": [
              "                                          dialogo  \\\n",
              "1065   me alegro de haberte conocido hasta pronto   \n",
              "958             me interesa curso de programacion   \n",
              "1061  me alegra haberte podido ayudar hasta luego   \n",
              "1097                         gracias por tu ayuda   \n",
              "1071    bueno me tengo que ir ya hasta la proxima   \n",
              "...                                           ...   \n",
              "646                                       2 mas 2   \n",
              "952                                       xd lmao   \n",
              "492                                 saludos desde   \n",
              "744                                     dividir 5   \n",
              "1078                                         vale   \n",
              "\n",
              "                                              respuesta            tipo  \\\n",
              "1065                            igualmente hasta pronto       Despedida   \n",
              "958   debes revisar el canal de elprofealejo en youtube           Otros   \n",
              "1061                       gracias por todo hasta luego       Despedida   \n",
              "1097   no hay problema siempre estoy aqui para ayudarte  Agradecimiento   \n",
              "1071                                   hasta la proxima       Despedida   \n",
              "...                                                 ...             ...   \n",
              "646        no estoy autorizado a darte estos resultados           Otros   \n",
              "952                                              jajaja           Otros   \n",
              "492   hola espero que esten disfrutando de un dia ma...         Saludos   \n",
              "744   no estoy autorizado a darte este tipo de infor...           Otros   \n",
              "1078                                     hasta la vista       Despedida   \n",
              "\n",
              "      interseccion  jaro_winkler  probabilidad  similarity  \n",
              "1065           0.1      0.803102      0.803102    0.083425  \n",
              "958            0.1      0.802756      0.802756    0.099812  \n",
              "1061           0.1      0.796589      0.796589    0.076288  \n",
              "1097           0.4      0.552041      0.756142    0.756142  \n",
              "1071           0.3      0.741696      0.741696    0.329599  \n",
              "...            ...           ...           ...         ...  \n",
              "646            0.0      0.384354      0.384354    0.000000  \n",
              "952            0.0      0.384354      0.384354    0.000000  \n",
              "492            0.0      0.361329      0.361329    0.000000  \n",
              "744            0.0      0.353741      0.353741    0.000000  \n",
              "1078           0.0      0.346939      0.346939    0.000000  \n",
              "\n",
              "[1146 rows x 7 columns]"
            ],
            "text/html": [
              "\n",
              "  <div id=\"df-1471eb16-40ba-4934-b646-b1599ac1ca27\" class=\"colab-df-container\">\n",
              "    <div>\n",
              "<style scoped>\n",
              "    .dataframe tbody tr th:only-of-type {\n",
              "        vertical-align: middle;\n",
              "    }\n",
              "\n",
              "    .dataframe tbody tr th {\n",
              "        vertical-align: top;\n",
              "    }\n",
              "\n",
              "    .dataframe thead th {\n",
              "        text-align: right;\n",
              "    }\n",
              "</style>\n",
              "<table border=\"1\" class=\"dataframe\">\n",
              "  <thead>\n",
              "    <tr style=\"text-align: right;\">\n",
              "      <th></th>\n",
              "      <th>dialogo</th>\n",
              "      <th>respuesta</th>\n",
              "      <th>tipo</th>\n",
              "      <th>interseccion</th>\n",
              "      <th>jaro_winkler</th>\n",
              "      <th>probabilidad</th>\n",
              "      <th>similarity</th>\n",
              "    </tr>\n",
              "  </thead>\n",
              "  <tbody>\n",
              "    <tr>\n",
              "      <th>1065</th>\n",
              "      <td>me alegro de haberte conocido hasta pronto</td>\n",
              "      <td>igualmente hasta pronto</td>\n",
              "      <td>Despedida</td>\n",
              "      <td>0.1</td>\n",
              "      <td>0.803102</td>\n",
              "      <td>0.803102</td>\n",
              "      <td>0.083425</td>\n",
              "    </tr>\n",
              "    <tr>\n",
              "      <th>958</th>\n",
              "      <td>me interesa curso de programacion</td>\n",
              "      <td>debes revisar el canal de elprofealejo en youtube</td>\n",
              "      <td>Otros</td>\n",
              "      <td>0.1</td>\n",
              "      <td>0.802756</td>\n",
              "      <td>0.802756</td>\n",
              "      <td>0.099812</td>\n",
              "    </tr>\n",
              "    <tr>\n",
              "      <th>1061</th>\n",
              "      <td>me alegra haberte podido ayudar hasta luego</td>\n",
              "      <td>gracias por todo hasta luego</td>\n",
              "      <td>Despedida</td>\n",
              "      <td>0.1</td>\n",
              "      <td>0.796589</td>\n",
              "      <td>0.796589</td>\n",
              "      <td>0.076288</td>\n",
              "    </tr>\n",
              "    <tr>\n",
              "      <th>1097</th>\n",
              "      <td>gracias por tu ayuda</td>\n",
              "      <td>no hay problema siempre estoy aqui para ayudarte</td>\n",
              "      <td>Agradecimiento</td>\n",
              "      <td>0.4</td>\n",
              "      <td>0.552041</td>\n",
              "      <td>0.756142</td>\n",
              "      <td>0.756142</td>\n",
              "    </tr>\n",
              "    <tr>\n",
              "      <th>1071</th>\n",
              "      <td>bueno me tengo que ir ya hasta la proxima</td>\n",
              "      <td>hasta la proxima</td>\n",
              "      <td>Despedida</td>\n",
              "      <td>0.3</td>\n",
              "      <td>0.741696</td>\n",
              "      <td>0.741696</td>\n",
              "      <td>0.329599</td>\n",
              "    </tr>\n",
              "    <tr>\n",
              "      <th>...</th>\n",
              "      <td>...</td>\n",
              "      <td>...</td>\n",
              "      <td>...</td>\n",
              "      <td>...</td>\n",
              "      <td>...</td>\n",
              "      <td>...</td>\n",
              "      <td>...</td>\n",
              "    </tr>\n",
              "    <tr>\n",
              "      <th>646</th>\n",
              "      <td>2 mas 2</td>\n",
              "      <td>no estoy autorizado a darte estos resultados</td>\n",
              "      <td>Otros</td>\n",
              "      <td>0.0</td>\n",
              "      <td>0.384354</td>\n",
              "      <td>0.384354</td>\n",
              "      <td>0.000000</td>\n",
              "    </tr>\n",
              "    <tr>\n",
              "      <th>952</th>\n",
              "      <td>xd lmao</td>\n",
              "      <td>jajaja</td>\n",
              "      <td>Otros</td>\n",
              "      <td>0.0</td>\n",
              "      <td>0.384354</td>\n",
              "      <td>0.384354</td>\n",
              "      <td>0.000000</td>\n",
              "    </tr>\n",
              "    <tr>\n",
              "      <th>492</th>\n",
              "      <td>saludos desde</td>\n",
              "      <td>hola espero que esten disfrutando de un dia ma...</td>\n",
              "      <td>Saludos</td>\n",
              "      <td>0.0</td>\n",
              "      <td>0.361329</td>\n",
              "      <td>0.361329</td>\n",
              "      <td>0.000000</td>\n",
              "    </tr>\n",
              "    <tr>\n",
              "      <th>744</th>\n",
              "      <td>dividir 5</td>\n",
              "      <td>no estoy autorizado a darte este tipo de infor...</td>\n",
              "      <td>Otros</td>\n",
              "      <td>0.0</td>\n",
              "      <td>0.353741</td>\n",
              "      <td>0.353741</td>\n",
              "      <td>0.000000</td>\n",
              "    </tr>\n",
              "    <tr>\n",
              "      <th>1078</th>\n",
              "      <td>vale</td>\n",
              "      <td>hasta la vista</td>\n",
              "      <td>Despedida</td>\n",
              "      <td>0.0</td>\n",
              "      <td>0.346939</td>\n",
              "      <td>0.346939</td>\n",
              "      <td>0.000000</td>\n",
              "    </tr>\n",
              "  </tbody>\n",
              "</table>\n",
              "<p>1146 rows × 7 columns</p>\n",
              "</div>\n",
              "    <div class=\"colab-df-buttons\">\n",
              "\n",
              "  <div class=\"colab-df-container\">\n",
              "    <button class=\"colab-df-convert\" onclick=\"convertToInteractive('df-1471eb16-40ba-4934-b646-b1599ac1ca27')\"\n",
              "            title=\"Convert this dataframe to an interactive table.\"\n",
              "            style=\"display:none;\">\n",
              "\n",
              "  <svg xmlns=\"http://www.w3.org/2000/svg\" height=\"24px\" viewBox=\"0 -960 960 960\">\n",
              "    <path d=\"M120-120v-720h720v720H120Zm60-500h600v-160H180v160Zm220 220h160v-160H400v160Zm0 220h160v-160H400v160ZM180-400h160v-160H180v160Zm440 0h160v-160H620v160ZM180-180h160v-160H180v160Zm440 0h160v-160H620v160Z\"/>\n",
              "  </svg>\n",
              "    </button>\n",
              "\n",
              "  <style>\n",
              "    .colab-df-container {\n",
              "      display:flex;\n",
              "      gap: 12px;\n",
              "    }\n",
              "\n",
              "    .colab-df-convert {\n",
              "      background-color: #E8F0FE;\n",
              "      border: none;\n",
              "      border-radius: 50%;\n",
              "      cursor: pointer;\n",
              "      display: none;\n",
              "      fill: #1967D2;\n",
              "      height: 32px;\n",
              "      padding: 0 0 0 0;\n",
              "      width: 32px;\n",
              "    }\n",
              "\n",
              "    .colab-df-convert:hover {\n",
              "      background-color: #E2EBFA;\n",
              "      box-shadow: 0px 1px 2px rgba(60, 64, 67, 0.3), 0px 1px 3px 1px rgba(60, 64, 67, 0.15);\n",
              "      fill: #174EA6;\n",
              "    }\n",
              "\n",
              "    .colab-df-buttons div {\n",
              "      margin-bottom: 4px;\n",
              "    }\n",
              "\n",
              "    [theme=dark] .colab-df-convert {\n",
              "      background-color: #3B4455;\n",
              "      fill: #D2E3FC;\n",
              "    }\n",
              "\n",
              "    [theme=dark] .colab-df-convert:hover {\n",
              "      background-color: #434B5C;\n",
              "      box-shadow: 0px 1px 3px 1px rgba(0, 0, 0, 0.15);\n",
              "      filter: drop-shadow(0px 1px 2px rgba(0, 0, 0, 0.3));\n",
              "      fill: #FFFFFF;\n",
              "    }\n",
              "  </style>\n",
              "\n",
              "    <script>\n",
              "      const buttonEl =\n",
              "        document.querySelector('#df-1471eb16-40ba-4934-b646-b1599ac1ca27 button.colab-df-convert');\n",
              "      buttonEl.style.display =\n",
              "        google.colab.kernel.accessAllowed ? 'block' : 'none';\n",
              "\n",
              "      async function convertToInteractive(key) {\n",
              "        const element = document.querySelector('#df-1471eb16-40ba-4934-b646-b1599ac1ca27');\n",
              "        const dataTable =\n",
              "          await google.colab.kernel.invokeFunction('convertToInteractive',\n",
              "                                                    [key], {});\n",
              "        if (!dataTable) return;\n",
              "\n",
              "        const docLinkHtml = 'Like what you see? Visit the ' +\n",
              "          '<a target=\"_blank\" href=https://colab.research.google.com/notebooks/data_table.ipynb>data table notebook</a>'\n",
              "          + ' to learn more about interactive tables.';\n",
              "        element.innerHTML = '';\n",
              "        dataTable['output_type'] = 'display_data';\n",
              "        await google.colab.output.renderOutput(dataTable, element);\n",
              "        const docLink = document.createElement('div');\n",
              "        docLink.innerHTML = docLinkHtml;\n",
              "        element.appendChild(docLink);\n",
              "      }\n",
              "    </script>\n",
              "  </div>\n",
              "\n",
              "\n",
              "<div id=\"df-54d69ca7-7716-4b71-93b6-6f445ad43306\">\n",
              "  <button class=\"colab-df-quickchart\" onclick=\"quickchart('df-54d69ca7-7716-4b71-93b6-6f445ad43306')\"\n",
              "            title=\"Suggest charts.\"\n",
              "            style=\"display:none;\">\n",
              "\n",
              "<svg xmlns=\"http://www.w3.org/2000/svg\" height=\"24px\"viewBox=\"0 0 24 24\"\n",
              "     width=\"24px\">\n",
              "    <g>\n",
              "        <path d=\"M19 3H5c-1.1 0-2 .9-2 2v14c0 1.1.9 2 2 2h14c1.1 0 2-.9 2-2V5c0-1.1-.9-2-2-2zM9 17H7v-7h2v7zm4 0h-2V7h2v10zm4 0h-2v-4h2v4z\"/>\n",
              "    </g>\n",
              "</svg>\n",
              "  </button>\n",
              "\n",
              "<style>\n",
              "  .colab-df-quickchart {\n",
              "      --bg-color: #E8F0FE;\n",
              "      --fill-color: #1967D2;\n",
              "      --hover-bg-color: #E2EBFA;\n",
              "      --hover-fill-color: #174EA6;\n",
              "      --disabled-fill-color: #AAA;\n",
              "      --disabled-bg-color: #DDD;\n",
              "  }\n",
              "\n",
              "  [theme=dark] .colab-df-quickchart {\n",
              "      --bg-color: #3B4455;\n",
              "      --fill-color: #D2E3FC;\n",
              "      --hover-bg-color: #434B5C;\n",
              "      --hover-fill-color: #FFFFFF;\n",
              "      --disabled-bg-color: #3B4455;\n",
              "      --disabled-fill-color: #666;\n",
              "  }\n",
              "\n",
              "  .colab-df-quickchart {\n",
              "    background-color: var(--bg-color);\n",
              "    border: none;\n",
              "    border-radius: 50%;\n",
              "    cursor: pointer;\n",
              "    display: none;\n",
              "    fill: var(--fill-color);\n",
              "    height: 32px;\n",
              "    padding: 0;\n",
              "    width: 32px;\n",
              "  }\n",
              "\n",
              "  .colab-df-quickchart:hover {\n",
              "    background-color: var(--hover-bg-color);\n",
              "    box-shadow: 0 1px 2px rgba(60, 64, 67, 0.3), 0 1px 3px 1px rgba(60, 64, 67, 0.15);\n",
              "    fill: var(--button-hover-fill-color);\n",
              "  }\n",
              "\n",
              "  .colab-df-quickchart-complete:disabled,\n",
              "  .colab-df-quickchart-complete:disabled:hover {\n",
              "    background-color: var(--disabled-bg-color);\n",
              "    fill: var(--disabled-fill-color);\n",
              "    box-shadow: none;\n",
              "  }\n",
              "\n",
              "  .colab-df-spinner {\n",
              "    border: 2px solid var(--fill-color);\n",
              "    border-color: transparent;\n",
              "    border-bottom-color: var(--fill-color);\n",
              "    animation:\n",
              "      spin 1s steps(1) infinite;\n",
              "  }\n",
              "\n",
              "  @keyframes spin {\n",
              "    0% {\n",
              "      border-color: transparent;\n",
              "      border-bottom-color: var(--fill-color);\n",
              "      border-left-color: var(--fill-color);\n",
              "    }\n",
              "    20% {\n",
              "      border-color: transparent;\n",
              "      border-left-color: var(--fill-color);\n",
              "      border-top-color: var(--fill-color);\n",
              "    }\n",
              "    30% {\n",
              "      border-color: transparent;\n",
              "      border-left-color: var(--fill-color);\n",
              "      border-top-color: var(--fill-color);\n",
              "      border-right-color: var(--fill-color);\n",
              "    }\n",
              "    40% {\n",
              "      border-color: transparent;\n",
              "      border-right-color: var(--fill-color);\n",
              "      border-top-color: var(--fill-color);\n",
              "    }\n",
              "    60% {\n",
              "      border-color: transparent;\n",
              "      border-right-color: var(--fill-color);\n",
              "    }\n",
              "    80% {\n",
              "      border-color: transparent;\n",
              "      border-right-color: var(--fill-color);\n",
              "      border-bottom-color: var(--fill-color);\n",
              "    }\n",
              "    90% {\n",
              "      border-color: transparent;\n",
              "      border-bottom-color: var(--fill-color);\n",
              "    }\n",
              "  }\n",
              "</style>\n",
              "\n",
              "  <script>\n",
              "    async function quickchart(key) {\n",
              "      const quickchartButtonEl =\n",
              "        document.querySelector('#' + key + ' button');\n",
              "      quickchartButtonEl.disabled = true;  // To prevent multiple clicks.\n",
              "      quickchartButtonEl.classList.add('colab-df-spinner');\n",
              "      try {\n",
              "        const charts = await google.colab.kernel.invokeFunction(\n",
              "            'suggestCharts', [key], {});\n",
              "      } catch (error) {\n",
              "        console.error('Error during call to suggestCharts:', error);\n",
              "      }\n",
              "      quickchartButtonEl.classList.remove('colab-df-spinner');\n",
              "      quickchartButtonEl.classList.add('colab-df-quickchart-complete');\n",
              "    }\n",
              "    (() => {\n",
              "      let quickchartButtonEl =\n",
              "        document.querySelector('#df-54d69ca7-7716-4b71-93b6-6f445ad43306 button');\n",
              "      quickchartButtonEl.style.display =\n",
              "        google.colab.kernel.accessAllowed ? 'block' : 'none';\n",
              "    })();\n",
              "  </script>\n",
              "</div>\n",
              "    </div>\n",
              "  </div>\n"
            ]
          },
          "metadata": {},
          "execution_count": 160
        }
      ]
    },
    {
      "cell_type": "markdown",
      "source": [
        "### Machine Learning\n",
        "\n",
        "Clasificaremos ahora el modelo mediante un modelo de Transformers"
      ],
      "metadata": {
        "id": "uld1TwkESVGA"
      }
    },
    {
      "cell_type": "code",
      "source": [
        "!pip install transformers"
      ],
      "metadata": {
        "id": "HTcP4JMWnoQ4"
      },
      "execution_count": null,
      "outputs": []
    },
    {
      "cell_type": "code",
      "source": [
        "from transformers import BertForSequenceClassification\n",
        "from transformers import BertTokenizer\n",
        "from sklearn.preprocessing import LabelEncoder\n",
        "from sklearn.model_selection import train_test_split\n",
        "from sklearn.feature_extraction.text import CountVectorizer\n",
        "from sklearn.naive_bayes import MultinomialNB\n",
        "from sklearn.ensemble import RandomForestClassifier\n",
        "from sklearn.metrics import accuracy_score"
      ],
      "metadata": {
        "id": "VGgiLGtBSXAS",
        "colab": {
          "base_uri": "https://localhost:8080/"
        },
        "outputId": "9df58f51-c9e9-4303-94d0-3cee79a875c5"
      },
      "execution_count": 107,
      "outputs": [
        {
          "output_type": "stream",
          "name": "stdout",
          "text": [
            "Requirement already satisfied: transformers in /usr/local/lib/python3.10/dist-packages (4.34.0)\n",
            "Requirement already satisfied: filelock in /usr/local/lib/python3.10/dist-packages (from transformers) (3.12.4)\n",
            "Requirement already satisfied: huggingface-hub<1.0,>=0.16.4 in /usr/local/lib/python3.10/dist-packages (from transformers) (0.17.3)\n",
            "Requirement already satisfied: numpy>=1.17 in /usr/local/lib/python3.10/dist-packages (from transformers) (1.23.5)\n",
            "Requirement already satisfied: packaging>=20.0 in /usr/local/lib/python3.10/dist-packages (from transformers) (23.2)\n",
            "Requirement already satisfied: pyyaml>=5.1 in /usr/local/lib/python3.10/dist-packages (from transformers) (6.0.1)\n",
            "Requirement already satisfied: regex!=2019.12.17 in /usr/local/lib/python3.10/dist-packages (from transformers) (2023.6.3)\n",
            "Requirement already satisfied: requests in /usr/local/lib/python3.10/dist-packages (from transformers) (2.31.0)\n",
            "Requirement already satisfied: tokenizers<0.15,>=0.14 in /usr/local/lib/python3.10/dist-packages (from transformers) (0.14.1)\n",
            "Requirement already satisfied: safetensors>=0.3.1 in /usr/local/lib/python3.10/dist-packages (from transformers) (0.4.0)\n",
            "Requirement already satisfied: tqdm>=4.27 in /usr/local/lib/python3.10/dist-packages (from transformers) (4.66.1)\n",
            "Requirement already satisfied: fsspec in /usr/local/lib/python3.10/dist-packages (from huggingface-hub<1.0,>=0.16.4->transformers) (2023.6.0)\n",
            "Requirement already satisfied: typing-extensions>=3.7.4.3 in /usr/local/lib/python3.10/dist-packages (from huggingface-hub<1.0,>=0.16.4->transformers) (4.5.0)\n",
            "Requirement already satisfied: charset-normalizer<4,>=2 in /usr/local/lib/python3.10/dist-packages (from requests->transformers) (3.3.0)\n",
            "Requirement already satisfied: idna<4,>=2.5 in /usr/local/lib/python3.10/dist-packages (from requests->transformers) (3.4)\n",
            "Requirement already satisfied: urllib3<3,>=1.21.1 in /usr/local/lib/python3.10/dist-packages (from requests->transformers) (2.0.6)\n",
            "Requirement already satisfied: certifi>=2017.4.17 in /usr/local/lib/python3.10/dist-packages (from requests->transformers) (2023.7.22)\n"
          ]
        }
      ]
    },
    {
      "cell_type": "markdown",
      "source": [
        "#### Normalizando dialogos"
      ],
      "metadata": {
        "id": "p4-jzGqWY_Cn"
      }
    },
    {
      "cell_type": "code",
      "source": [
        "# Normalizando frases\n",
        "label_encoder = LabelEncoder()\n",
        "\n",
        "# Normalizar cada dialogo\n",
        "df_dialogo['palabras'] = df_dialogo['dialogo'].apply(normalizar)\n",
        "df_dialogo['tipo_num'] = label_encoder.fit_transform(df_dialogo['tipo'])\n",
        "df_dialogo = df_dialogo[df_dialogo.palabras.values!='']\n",
        "\n",
        "df_dialogo"
      ],
      "metadata": {
        "colab": {
          "base_uri": "https://localhost:8080/",
          "height": 580
        },
        "id": "PPa3BaKxZDEs",
        "outputId": "f5408f17-7a66-471d-c596-57eb4c5cd767"
      },
      "execution_count": 163,
      "outputs": [
        {
          "output_type": "execute_result",
          "data": {
            "text/plain": [
              "                                                dialogo  \\\n",
              "0                                        aprendes cosas   \n",
              "1                 como aprendiste a responder preguntas   \n",
              "2           puedes mejorar o actualizarte con el tiempo   \n",
              "3                      cual es tu nivel de inteligencia   \n",
              "4     puedes aprender de la interaccion con los usua...   \n",
              "...                                                 ...   \n",
              "1141                                     esta muy bueno   \n",
              "1142                    te super agradezco por la ayuda   \n",
              "1143  muchas gracias por compartir tus conocimientos...   \n",
              "1144                                  muy bien muy bien   \n",
              "1145                                         ok gracias   \n",
              "\n",
              "                                              respuesta            tipo  \\\n",
              "0     aprendo de mi experiencia conversando con otro...     Aprendizaje   \n",
              "1     aprendi a responder preguntas a traves de un e...     Aprendizaje   \n",
              "2     si mi capacidad para responder preguntas y mi ...     Aprendizaje   \n",
              "3     soy un chatbot desarrollado para simular respu...     Aprendizaje   \n",
              "4     como modelo de lenguaje no tengo la capacidad ...     Aprendizaje   \n",
              "...                                                 ...             ...   \n",
              "1141   muchas gracias estamos contentos de que te guste  Agradecimiento   \n",
              "1142                                       gracias a ti  Agradecimiento   \n",
              "1143                                       gracias a ti  Agradecimiento   \n",
              "1144            es un placer saber que te gusta gracias  Agradecimiento   \n",
              "1145                                           por nada  Agradecimiento   \n",
              "\n",
              "      interseccion  jaro_winkler  probabilidad  \\\n",
              "0                0             0             0   \n",
              "1                0             0             0   \n",
              "2                0             0             0   \n",
              "3                0             0             0   \n",
              "4                0             0             0   \n",
              "...            ...           ...           ...   \n",
              "1141             0             0             0   \n",
              "1142             0             0             0   \n",
              "1143             0             0             0   \n",
              "1144             0             0             0   \n",
              "1145             0             0             0   \n",
              "\n",
              "                                               palabras  tipo_num  \n",
              "0                                        aprendes cosas         1  \n",
              "1                   como aprendir a responder preguntas         1  \n",
              "2            poder mejorar o actualizarte con el tiempo         1  \n",
              "3                     cual ser tu nivel de inteligencia         1  \n",
              "4     poder aprender de la interaccion con los usuarios         1  \n",
              "...                                                 ...       ...  \n",
              "1141                                     esta muy bueno         0  \n",
              "1142                    te super agradezco por la ayuda         0  \n",
              "1143  muchas gracias por compartir tus conocimientos...         0  \n",
              "1144                                  muy bien muy bien         0  \n",
              "1145                                         ok gracias         0  \n",
              "\n",
              "[1146 rows x 8 columns]"
            ],
            "text/html": [
              "\n",
              "  <div id=\"df-a166e20b-5402-41df-9ed6-62d7d0c625d2\" class=\"colab-df-container\">\n",
              "    <div>\n",
              "<style scoped>\n",
              "    .dataframe tbody tr th:only-of-type {\n",
              "        vertical-align: middle;\n",
              "    }\n",
              "\n",
              "    .dataframe tbody tr th {\n",
              "        vertical-align: top;\n",
              "    }\n",
              "\n",
              "    .dataframe thead th {\n",
              "        text-align: right;\n",
              "    }\n",
              "</style>\n",
              "<table border=\"1\" class=\"dataframe\">\n",
              "  <thead>\n",
              "    <tr style=\"text-align: right;\">\n",
              "      <th></th>\n",
              "      <th>dialogo</th>\n",
              "      <th>respuesta</th>\n",
              "      <th>tipo</th>\n",
              "      <th>interseccion</th>\n",
              "      <th>jaro_winkler</th>\n",
              "      <th>probabilidad</th>\n",
              "      <th>palabras</th>\n",
              "      <th>tipo_num</th>\n",
              "    </tr>\n",
              "  </thead>\n",
              "  <tbody>\n",
              "    <tr>\n",
              "      <th>0</th>\n",
              "      <td>aprendes cosas</td>\n",
              "      <td>aprendo de mi experiencia conversando con otro...</td>\n",
              "      <td>Aprendizaje</td>\n",
              "      <td>0</td>\n",
              "      <td>0</td>\n",
              "      <td>0</td>\n",
              "      <td>aprendes cosas</td>\n",
              "      <td>1</td>\n",
              "    </tr>\n",
              "    <tr>\n",
              "      <th>1</th>\n",
              "      <td>como aprendiste a responder preguntas</td>\n",
              "      <td>aprendi a responder preguntas a traves de un e...</td>\n",
              "      <td>Aprendizaje</td>\n",
              "      <td>0</td>\n",
              "      <td>0</td>\n",
              "      <td>0</td>\n",
              "      <td>como aprendir a responder preguntas</td>\n",
              "      <td>1</td>\n",
              "    </tr>\n",
              "    <tr>\n",
              "      <th>2</th>\n",
              "      <td>puedes mejorar o actualizarte con el tiempo</td>\n",
              "      <td>si mi capacidad para responder preguntas y mi ...</td>\n",
              "      <td>Aprendizaje</td>\n",
              "      <td>0</td>\n",
              "      <td>0</td>\n",
              "      <td>0</td>\n",
              "      <td>poder mejorar o actualizarte con el tiempo</td>\n",
              "      <td>1</td>\n",
              "    </tr>\n",
              "    <tr>\n",
              "      <th>3</th>\n",
              "      <td>cual es tu nivel de inteligencia</td>\n",
              "      <td>soy un chatbot desarrollado para simular respu...</td>\n",
              "      <td>Aprendizaje</td>\n",
              "      <td>0</td>\n",
              "      <td>0</td>\n",
              "      <td>0</td>\n",
              "      <td>cual ser tu nivel de inteligencia</td>\n",
              "      <td>1</td>\n",
              "    </tr>\n",
              "    <tr>\n",
              "      <th>4</th>\n",
              "      <td>puedes aprender de la interaccion con los usua...</td>\n",
              "      <td>como modelo de lenguaje no tengo la capacidad ...</td>\n",
              "      <td>Aprendizaje</td>\n",
              "      <td>0</td>\n",
              "      <td>0</td>\n",
              "      <td>0</td>\n",
              "      <td>poder aprender de la interaccion con los usuarios</td>\n",
              "      <td>1</td>\n",
              "    </tr>\n",
              "    <tr>\n",
              "      <th>...</th>\n",
              "      <td>...</td>\n",
              "      <td>...</td>\n",
              "      <td>...</td>\n",
              "      <td>...</td>\n",
              "      <td>...</td>\n",
              "      <td>...</td>\n",
              "      <td>...</td>\n",
              "      <td>...</td>\n",
              "    </tr>\n",
              "    <tr>\n",
              "      <th>1141</th>\n",
              "      <td>esta muy bueno</td>\n",
              "      <td>muchas gracias estamos contentos de que te guste</td>\n",
              "      <td>Agradecimiento</td>\n",
              "      <td>0</td>\n",
              "      <td>0</td>\n",
              "      <td>0</td>\n",
              "      <td>esta muy bueno</td>\n",
              "      <td>0</td>\n",
              "    </tr>\n",
              "    <tr>\n",
              "      <th>1142</th>\n",
              "      <td>te super agradezco por la ayuda</td>\n",
              "      <td>gracias a ti</td>\n",
              "      <td>Agradecimiento</td>\n",
              "      <td>0</td>\n",
              "      <td>0</td>\n",
              "      <td>0</td>\n",
              "      <td>te super agradezco por la ayuda</td>\n",
              "      <td>0</td>\n",
              "    </tr>\n",
              "    <tr>\n",
              "      <th>1143</th>\n",
              "      <td>muchas gracias por compartir tus conocimientos...</td>\n",
              "      <td>gracias a ti</td>\n",
              "      <td>Agradecimiento</td>\n",
              "      <td>0</td>\n",
              "      <td>0</td>\n",
              "      <td>0</td>\n",
              "      <td>muchas gracias por compartir tus conocimientos...</td>\n",
              "      <td>0</td>\n",
              "    </tr>\n",
              "    <tr>\n",
              "      <th>1144</th>\n",
              "      <td>muy bien muy bien</td>\n",
              "      <td>es un placer saber que te gusta gracias</td>\n",
              "      <td>Agradecimiento</td>\n",
              "      <td>0</td>\n",
              "      <td>0</td>\n",
              "      <td>0</td>\n",
              "      <td>muy bien muy bien</td>\n",
              "      <td>0</td>\n",
              "    </tr>\n",
              "    <tr>\n",
              "      <th>1145</th>\n",
              "      <td>ok gracias</td>\n",
              "      <td>por nada</td>\n",
              "      <td>Agradecimiento</td>\n",
              "      <td>0</td>\n",
              "      <td>0</td>\n",
              "      <td>0</td>\n",
              "      <td>ok gracias</td>\n",
              "      <td>0</td>\n",
              "    </tr>\n",
              "  </tbody>\n",
              "</table>\n",
              "<p>1146 rows × 8 columns</p>\n",
              "</div>\n",
              "    <div class=\"colab-df-buttons\">\n",
              "\n",
              "  <div class=\"colab-df-container\">\n",
              "    <button class=\"colab-df-convert\" onclick=\"convertToInteractive('df-a166e20b-5402-41df-9ed6-62d7d0c625d2')\"\n",
              "            title=\"Convert this dataframe to an interactive table.\"\n",
              "            style=\"display:none;\">\n",
              "\n",
              "  <svg xmlns=\"http://www.w3.org/2000/svg\" height=\"24px\" viewBox=\"0 -960 960 960\">\n",
              "    <path d=\"M120-120v-720h720v720H120Zm60-500h600v-160H180v160Zm220 220h160v-160H400v160Zm0 220h160v-160H400v160ZM180-400h160v-160H180v160Zm440 0h160v-160H620v160ZM180-180h160v-160H180v160Zm440 0h160v-160H620v160Z\"/>\n",
              "  </svg>\n",
              "    </button>\n",
              "\n",
              "  <style>\n",
              "    .colab-df-container {\n",
              "      display:flex;\n",
              "      gap: 12px;\n",
              "    }\n",
              "\n",
              "    .colab-df-convert {\n",
              "      background-color: #E8F0FE;\n",
              "      border: none;\n",
              "      border-radius: 50%;\n",
              "      cursor: pointer;\n",
              "      display: none;\n",
              "      fill: #1967D2;\n",
              "      height: 32px;\n",
              "      padding: 0 0 0 0;\n",
              "      width: 32px;\n",
              "    }\n",
              "\n",
              "    .colab-df-convert:hover {\n",
              "      background-color: #E2EBFA;\n",
              "      box-shadow: 0px 1px 2px rgba(60, 64, 67, 0.3), 0px 1px 3px 1px rgba(60, 64, 67, 0.15);\n",
              "      fill: #174EA6;\n",
              "    }\n",
              "\n",
              "    .colab-df-buttons div {\n",
              "      margin-bottom: 4px;\n",
              "    }\n",
              "\n",
              "    [theme=dark] .colab-df-convert {\n",
              "      background-color: #3B4455;\n",
              "      fill: #D2E3FC;\n",
              "    }\n",
              "\n",
              "    [theme=dark] .colab-df-convert:hover {\n",
              "      background-color: #434B5C;\n",
              "      box-shadow: 0px 1px 3px 1px rgba(0, 0, 0, 0.15);\n",
              "      filter: drop-shadow(0px 1px 2px rgba(0, 0, 0, 0.3));\n",
              "      fill: #FFFFFF;\n",
              "    }\n",
              "  </style>\n",
              "\n",
              "    <script>\n",
              "      const buttonEl =\n",
              "        document.querySelector('#df-a166e20b-5402-41df-9ed6-62d7d0c625d2 button.colab-df-convert');\n",
              "      buttonEl.style.display =\n",
              "        google.colab.kernel.accessAllowed ? 'block' : 'none';\n",
              "\n",
              "      async function convertToInteractive(key) {\n",
              "        const element = document.querySelector('#df-a166e20b-5402-41df-9ed6-62d7d0c625d2');\n",
              "        const dataTable =\n",
              "          await google.colab.kernel.invokeFunction('convertToInteractive',\n",
              "                                                    [key], {});\n",
              "        if (!dataTable) return;\n",
              "\n",
              "        const docLinkHtml = 'Like what you see? Visit the ' +\n",
              "          '<a target=\"_blank\" href=https://colab.research.google.com/notebooks/data_table.ipynb>data table notebook</a>'\n",
              "          + ' to learn more about interactive tables.';\n",
              "        element.innerHTML = '';\n",
              "        dataTable['output_type'] = 'display_data';\n",
              "        await google.colab.output.renderOutput(dataTable, element);\n",
              "        const docLink = document.createElement('div');\n",
              "        docLink.innerHTML = docLinkHtml;\n",
              "        element.appendChild(docLink);\n",
              "      }\n",
              "    </script>\n",
              "  </div>\n",
              "\n",
              "\n",
              "<div id=\"df-86ef84db-4c44-4022-8be1-7a8ac5ad6695\">\n",
              "  <button class=\"colab-df-quickchart\" onclick=\"quickchart('df-86ef84db-4c44-4022-8be1-7a8ac5ad6695')\"\n",
              "            title=\"Suggest charts.\"\n",
              "            style=\"display:none;\">\n",
              "\n",
              "<svg xmlns=\"http://www.w3.org/2000/svg\" height=\"24px\"viewBox=\"0 0 24 24\"\n",
              "     width=\"24px\">\n",
              "    <g>\n",
              "        <path d=\"M19 3H5c-1.1 0-2 .9-2 2v14c0 1.1.9 2 2 2h14c1.1 0 2-.9 2-2V5c0-1.1-.9-2-2-2zM9 17H7v-7h2v7zm4 0h-2V7h2v10zm4 0h-2v-4h2v4z\"/>\n",
              "    </g>\n",
              "</svg>\n",
              "  </button>\n",
              "\n",
              "<style>\n",
              "  .colab-df-quickchart {\n",
              "      --bg-color: #E8F0FE;\n",
              "      --fill-color: #1967D2;\n",
              "      --hover-bg-color: #E2EBFA;\n",
              "      --hover-fill-color: #174EA6;\n",
              "      --disabled-fill-color: #AAA;\n",
              "      --disabled-bg-color: #DDD;\n",
              "  }\n",
              "\n",
              "  [theme=dark] .colab-df-quickchart {\n",
              "      --bg-color: #3B4455;\n",
              "      --fill-color: #D2E3FC;\n",
              "      --hover-bg-color: #434B5C;\n",
              "      --hover-fill-color: #FFFFFF;\n",
              "      --disabled-bg-color: #3B4455;\n",
              "      --disabled-fill-color: #666;\n",
              "  }\n",
              "\n",
              "  .colab-df-quickchart {\n",
              "    background-color: var(--bg-color);\n",
              "    border: none;\n",
              "    border-radius: 50%;\n",
              "    cursor: pointer;\n",
              "    display: none;\n",
              "    fill: var(--fill-color);\n",
              "    height: 32px;\n",
              "    padding: 0;\n",
              "    width: 32px;\n",
              "  }\n",
              "\n",
              "  .colab-df-quickchart:hover {\n",
              "    background-color: var(--hover-bg-color);\n",
              "    box-shadow: 0 1px 2px rgba(60, 64, 67, 0.3), 0 1px 3px 1px rgba(60, 64, 67, 0.15);\n",
              "    fill: var(--button-hover-fill-color);\n",
              "  }\n",
              "\n",
              "  .colab-df-quickchart-complete:disabled,\n",
              "  .colab-df-quickchart-complete:disabled:hover {\n",
              "    background-color: var(--disabled-bg-color);\n",
              "    fill: var(--disabled-fill-color);\n",
              "    box-shadow: none;\n",
              "  }\n",
              "\n",
              "  .colab-df-spinner {\n",
              "    border: 2px solid var(--fill-color);\n",
              "    border-color: transparent;\n",
              "    border-bottom-color: var(--fill-color);\n",
              "    animation:\n",
              "      spin 1s steps(1) infinite;\n",
              "  }\n",
              "\n",
              "  @keyframes spin {\n",
              "    0% {\n",
              "      border-color: transparent;\n",
              "      border-bottom-color: var(--fill-color);\n",
              "      border-left-color: var(--fill-color);\n",
              "    }\n",
              "    20% {\n",
              "      border-color: transparent;\n",
              "      border-left-color: var(--fill-color);\n",
              "      border-top-color: var(--fill-color);\n",
              "    }\n",
              "    30% {\n",
              "      border-color: transparent;\n",
              "      border-left-color: var(--fill-color);\n",
              "      border-top-color: var(--fill-color);\n",
              "      border-right-color: var(--fill-color);\n",
              "    }\n",
              "    40% {\n",
              "      border-color: transparent;\n",
              "      border-right-color: var(--fill-color);\n",
              "      border-top-color: var(--fill-color);\n",
              "    }\n",
              "    60% {\n",
              "      border-color: transparent;\n",
              "      border-right-color: var(--fill-color);\n",
              "    }\n",
              "    80% {\n",
              "      border-color: transparent;\n",
              "      border-right-color: var(--fill-color);\n",
              "      border-bottom-color: var(--fill-color);\n",
              "    }\n",
              "    90% {\n",
              "      border-color: transparent;\n",
              "      border-bottom-color: var(--fill-color);\n",
              "    }\n",
              "  }\n",
              "</style>\n",
              "\n",
              "  <script>\n",
              "    async function quickchart(key) {\n",
              "      const quickchartButtonEl =\n",
              "        document.querySelector('#' + key + ' button');\n",
              "      quickchartButtonEl.disabled = true;  // To prevent multiple clicks.\n",
              "      quickchartButtonEl.classList.add('colab-df-spinner');\n",
              "      try {\n",
              "        const charts = await google.colab.kernel.invokeFunction(\n",
              "            'suggestCharts', [key], {});\n",
              "      } catch (error) {\n",
              "        console.error('Error during call to suggestCharts:', error);\n",
              "      }\n",
              "      quickchartButtonEl.classList.remove('colab-df-spinner');\n",
              "      quickchartButtonEl.classList.add('colab-df-quickchart-complete');\n",
              "    }\n",
              "    (() => {\n",
              "      let quickchartButtonEl =\n",
              "        document.querySelector('#df-86ef84db-4c44-4022-8be1-7a8ac5ad6695 button');\n",
              "      quickchartButtonEl.style.display =\n",
              "        google.colab.kernel.accessAllowed ? 'block' : 'none';\n",
              "    })();\n",
              "  </script>\n",
              "</div>\n",
              "    </div>\n",
              "  </div>\n"
            ]
          },
          "metadata": {},
          "execution_count": 163
        }
      ]
    }
  ]
}